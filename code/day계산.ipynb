{
 "cells": [
  {
   "cell_type": "code",
   "execution_count": 99,
   "id": "107d0b3e",
   "metadata": {},
   "outputs": [
    {
     "name": "stdout",
     "output_type": "stream",
     "text": [
      "Collecting tqdm\n",
      "  Downloading tqdm-4.61.2-py2.py3-none-any.whl (76 kB)\n",
      "\u001b[K     |████████████████████████████████| 76 kB 574 kB/s eta 0:00:01\n",
      "\u001b[?25hInstalling collected packages: tqdm\n",
      "Successfully installed tqdm-4.61.2\n",
      "Note: you may need to restart the kernel to use updated packages.\n"
     ]
    }
   ],
   "source": [
    "pip install tqdm"
   ]
  },
  {
   "cell_type": "code",
   "execution_count": 2,
   "id": "9e0945fb",
   "metadata": {},
   "outputs": [
    {
     "name": "stderr",
     "output_type": "stream",
     "text": [
      "/home/users/s17011730/.conda/envs/ujin/lib/python3.7/site-packages/IPython/core/interactiveshell.py:3166: DtypeWarning: Columns (0,1,2,59) have mixed types.Specify dtype option on import or set low_memory=False.\n",
      "  interactivity=interactivity, compiler=compiler, result=result)\n",
      "/home/users/s17011730/.conda/envs/ujin/lib/python3.7/site-packages/IPython/core/interactiveshell.py:3166: DtypeWarning: Columns (57,84,85,86) have mixed types.Specify dtype option on import or set low_memory=False.\n",
      "  interactivity=interactivity, compiler=compiler, result=result)\n",
      "/home/users/s17011730/.conda/envs/ujin/lib/python3.7/site-packages/IPython/core/interactiveshell.py:3166: DtypeWarning: Columns (65,84,95,96,97) have mixed types.Specify dtype option on import or set low_memory=False.\n",
      "  interactivity=interactivity, compiler=compiler, result=result)\n",
      "/home/users/s17011730/.conda/envs/ujin/lib/python3.7/site-packages/IPython/core/interactiveshell.py:3166: DtypeWarning: Columns (1,2,3,40) have mixed types.Specify dtype option on import or set low_memory=False.\n",
      "  interactivity=interactivity, compiler=compiler, result=result)\n"
     ]
    }
   ],
   "source": [
    "import pandas as pd\n",
    "\n",
    "tutorial = pd.read_csv(\"data/brazil_tutorial.csv\")\n",
    "play = pd.read_csv(\"data/brazil_play.csv\")\n",
    "draw = pd.read_csv(\"data/brazil_draw.csv\")\n",
    "stage = pd.read_csv(\"data/brazil_stage.csv\")\n",
    "asset = pd.read_csv(\"data/sub_asset.csv\")\n",
    "ads = pd.read_csv(\"data/sub_ads.csv\")\n",
    "activity = pd.read_csv(\"data/brazil_activity.csv\")"
   ]
  },
  {
   "cell_type": "markdown",
   "id": "b8a81927",
   "metadata": {},
   "source": [
    "# 각 event column명 맞추기"
   ]
  },
  {
   "cell_type": "markdown",
   "id": "58117b34",
   "metadata": {},
   "source": [
    "### tutorial"
   ]
  },
  {
   "cell_type": "code",
   "execution_count": 6,
   "id": "512fa629",
   "metadata": {},
   "outputs": [],
   "source": [
    "columns_name = ['event_params_ad_id','user_properties_ad_id','event_timestamp','ga_session_id','ga_session_id_1','ga_session_id_timestamp']"
   ]
  },
  {
   "cell_type": "code",
   "execution_count": 25,
   "id": "2c0be94a",
   "metadata": {},
   "outputs": [
    {
     "data": {
      "text/html": [
       "<div>\n",
       "<style scoped>\n",
       "    .dataframe tbody tr th:only-of-type {\n",
       "        vertical-align: middle;\n",
       "    }\n",
       "\n",
       "    .dataframe tbody tr th {\n",
       "        vertical-align: top;\n",
       "    }\n",
       "\n",
       "    .dataframe thead th {\n",
       "        text-align: right;\n",
       "    }\n",
       "</style>\n",
       "<table border=\"1\" class=\"dataframe\">\n",
       "  <thead>\n",
       "    <tr style=\"text-align: right;\">\n",
       "      <th></th>\n",
       "      <th>event_params_ad_id</th>\n",
       "      <th>user_properties_ad_id</th>\n",
       "      <th>event_timestamp</th>\n",
       "      <th>ga_session_id</th>\n",
       "      <th>ga_session_id_1</th>\n",
       "      <th>ga_session_id_timestamp</th>\n",
       "    </tr>\n",
       "  </thead>\n",
       "  <tbody>\n",
       "    <tr>\n",
       "      <th>0</th>\n",
       "      <td>8c1573e7-f440-431e-b516-00c5b621fd63</td>\n",
       "      <td>8c1573e7-f440-431e-b516-00c5b621fd63</td>\n",
       "      <td>1618716504567000</td>\n",
       "      <td>1.618716e+09</td>\n",
       "      <td>1.618716e+09</td>\n",
       "      <td>1.618716e+15</td>\n",
       "    </tr>\n",
       "    <tr>\n",
       "      <th>1</th>\n",
       "      <td>1d1ec878-3d36-46e5-a2cc-3bed46341679</td>\n",
       "      <td>1d1ec878-3d36-46e5-a2cc-3bed46341679</td>\n",
       "      <td>1618080730037000</td>\n",
       "      <td>1.618081e+09</td>\n",
       "      <td>1.618081e+09</td>\n",
       "      <td>1.618081e+15</td>\n",
       "    </tr>\n",
       "    <tr>\n",
       "      <th>2</th>\n",
       "      <td>95511509-8065-4227-bd5a-a803ddbed7b6</td>\n",
       "      <td>95511509-8065-4227-bd5a-a803ddbed7b6</td>\n",
       "      <td>1618362123481000</td>\n",
       "      <td>1.618362e+09</td>\n",
       "      <td>1.618362e+09</td>\n",
       "      <td>1.618362e+15</td>\n",
       "    </tr>\n",
       "    <tr>\n",
       "      <th>3</th>\n",
       "      <td>a42b11cd-da75-4043-897f-18c3f4d67c3e</td>\n",
       "      <td>a42b11cd-da75-4043-897f-18c3f4d67c3e</td>\n",
       "      <td>1618572315366000</td>\n",
       "      <td>1.618572e+09</td>\n",
       "      <td>1.618572e+09</td>\n",
       "      <td>1.618572e+15</td>\n",
       "    </tr>\n",
       "    <tr>\n",
       "      <th>4</th>\n",
       "      <td>c1fb8a47-9bbb-4faa-935d-d533b985431a</td>\n",
       "      <td>c1fb8a47-9bbb-4faa-935d-d533b985431a</td>\n",
       "      <td>1618892539702000</td>\n",
       "      <td>1.618892e+09</td>\n",
       "      <td>1.618892e+09</td>\n",
       "      <td>1.618892e+15</td>\n",
       "    </tr>\n",
       "  </tbody>\n",
       "</table>\n",
       "</div>"
      ],
      "text/plain": [
       "                     event_params_ad_id                 user_properties_ad_id  \\\n",
       "0  8c1573e7-f440-431e-b516-00c5b621fd63  8c1573e7-f440-431e-b516-00c5b621fd63   \n",
       "1  1d1ec878-3d36-46e5-a2cc-3bed46341679  1d1ec878-3d36-46e5-a2cc-3bed46341679   \n",
       "2  95511509-8065-4227-bd5a-a803ddbed7b6  95511509-8065-4227-bd5a-a803ddbed7b6   \n",
       "3  a42b11cd-da75-4043-897f-18c3f4d67c3e  a42b11cd-da75-4043-897f-18c3f4d67c3e   \n",
       "4  c1fb8a47-9bbb-4faa-935d-d533b985431a  c1fb8a47-9bbb-4faa-935d-d533b985431a   \n",
       "\n",
       "    event_timestamp  ga_session_id  ga_session_id_1  ga_session_id_timestamp  \n",
       "0  1618716504567000   1.618716e+09     1.618716e+09             1.618716e+15  \n",
       "1  1618080730037000   1.618081e+09     1.618081e+09             1.618081e+15  \n",
       "2  1618362123481000   1.618362e+09     1.618362e+09             1.618362e+15  \n",
       "3  1618572315366000   1.618572e+09     1.618572e+09             1.618572e+15  \n",
       "4  1618892539702000   1.618892e+09     1.618892e+09             1.618892e+15  "
      ]
     },
     "execution_count": 25,
     "metadata": {},
     "output_type": "execute_result"
    }
   ],
   "source": [
    "tutorial_day = tutorial[columns_name]\n",
    "tutorial_day.head()"
   ]
  },
  {
   "cell_type": "code",
   "execution_count": 27,
   "id": "fc22fe55",
   "metadata": {},
   "outputs": [
    {
     "name": "stdout",
     "output_type": "stream",
     "text": [
      "9194\n",
      "9256\n",
      "1\n"
     ]
    }
   ],
   "source": [
    "# ad_id null값\n",
    "print(len(tutorial_day[tutorial_day['event_params_ad_id'].isnull()]))\n",
    "print(len(tutorial_day[tutorial_day['user_properties_ad_id'].isnull()]))\n",
    "\n",
    "#ad_id는 null값인데 ad_id_1은 null이 아닌것 (=차이)\n",
    "print(len(tutorial_day[(tutorial_day['event_params_ad_id'].isnull()) & ~(tutorial_day['user_properties_ad_id'].isnull())]))"
   ]
  },
  {
   "cell_type": "code",
   "execution_count": 28,
   "id": "6daaa4ce",
   "metadata": {},
   "outputs": [
    {
     "name": "stderr",
     "output_type": "stream",
     "text": [
      "/home/users/s17011730/.conda/envs/ujin/lib/python3.7/site-packages/pandas/core/indexing.py:1743: SettingWithCopyWarning: \n",
      "A value is trying to be set on a copy of a slice from a DataFrame.\n",
      "Try using .loc[row_indexer,col_indexer] = value instead\n",
      "\n",
      "See the caveats in the documentation: https://pandas.pydata.org/pandas-docs/stable/user_guide/indexing.html#returning-a-view-versus-a-copy\n",
      "  isetter(ilocs[0], value)\n",
      "/home/users/s17011730/.conda/envs/ujin/lib/python3.7/site-packages/pandas/core/frame.py:4308: SettingWithCopyWarning: \n",
      "A value is trying to be set on a copy of a slice from a DataFrame\n",
      "\n",
      "See the caveats in the documentation: https://pandas.pydata.org/pandas-docs/stable/user_guide/indexing.html#returning-a-view-versus-a-copy\n",
      "  errors=errors,\n"
     ]
    }
   ],
   "source": [
    " # 최종 ad_id를 생성\n",
    "index = tutorial_day[tutorial_day['event_params_ad_id'].isnull()].index\n",
    "tutorial_day.loc[index, 'event_params_ad_id'] = tutorial_day.loc[index, 'user_properties_ad_id']\n",
    "tutorial_day.rename({'event_params_ad_id' : 'ad_id'}, axis=1, inplace = True)"
   ]
  },
  {
   "cell_type": "code",
   "execution_count": 29,
   "id": "fdd9f490",
   "metadata": {},
   "outputs": [
    {
     "name": "stdout",
     "output_type": "stream",
     "text": [
      "9193\n"
     ]
    }
   ],
   "source": [
    "# ad_id null값\n",
    "print(len(tutorial_day[tutorial_day['ad_id'].isnull()]))"
   ]
  },
  {
   "cell_type": "code",
   "execution_count": 37,
   "id": "3a8e07a2",
   "metadata": {},
   "outputs": [
    {
     "data": {
      "text/html": [
       "<div>\n",
       "<style scoped>\n",
       "    .dataframe tbody tr th:only-of-type {\n",
       "        vertical-align: middle;\n",
       "    }\n",
       "\n",
       "    .dataframe tbody tr th {\n",
       "        vertical-align: top;\n",
       "    }\n",
       "\n",
       "    .dataframe thead th {\n",
       "        text-align: right;\n",
       "    }\n",
       "</style>\n",
       "<table border=\"1\" class=\"dataframe\">\n",
       "  <thead>\n",
       "    <tr style=\"text-align: right;\">\n",
       "      <th></th>\n",
       "      <th>ad_id</th>\n",
       "      <th>user_properties_ad_id</th>\n",
       "      <th>event_timestamp</th>\n",
       "      <th>ga_session_id</th>\n",
       "      <th>ga_session_id_1</th>\n",
       "      <th>ga_session_id_timestamp</th>\n",
       "    </tr>\n",
       "  </thead>\n",
       "  <tbody>\n",
       "    <tr>\n",
       "      <th>0</th>\n",
       "      <td>8c1573e7-f440-431e-b516-00c5b621fd63</td>\n",
       "      <td>8c1573e7-f440-431e-b516-00c5b621fd63</td>\n",
       "      <td>1618716504567000</td>\n",
       "      <td>1.618716e+09</td>\n",
       "      <td>1.618716e+09</td>\n",
       "      <td>1.618716e+15</td>\n",
       "    </tr>\n",
       "    <tr>\n",
       "      <th>1</th>\n",
       "      <td>1d1ec878-3d36-46e5-a2cc-3bed46341679</td>\n",
       "      <td>1d1ec878-3d36-46e5-a2cc-3bed46341679</td>\n",
       "      <td>1618080730037000</td>\n",
       "      <td>1.618081e+09</td>\n",
       "      <td>1.618081e+09</td>\n",
       "      <td>1.618081e+15</td>\n",
       "    </tr>\n",
       "    <tr>\n",
       "      <th>2</th>\n",
       "      <td>95511509-8065-4227-bd5a-a803ddbed7b6</td>\n",
       "      <td>95511509-8065-4227-bd5a-a803ddbed7b6</td>\n",
       "      <td>1618362123481000</td>\n",
       "      <td>1.618362e+09</td>\n",
       "      <td>1.618362e+09</td>\n",
       "      <td>1.618362e+15</td>\n",
       "    </tr>\n",
       "    <tr>\n",
       "      <th>3</th>\n",
       "      <td>a42b11cd-da75-4043-897f-18c3f4d67c3e</td>\n",
       "      <td>a42b11cd-da75-4043-897f-18c3f4d67c3e</td>\n",
       "      <td>1618572315366000</td>\n",
       "      <td>1.618572e+09</td>\n",
       "      <td>1.618572e+09</td>\n",
       "      <td>1.618572e+15</td>\n",
       "    </tr>\n",
       "    <tr>\n",
       "      <th>4</th>\n",
       "      <td>c1fb8a47-9bbb-4faa-935d-d533b985431a</td>\n",
       "      <td>c1fb8a47-9bbb-4faa-935d-d533b985431a</td>\n",
       "      <td>1618892539702000</td>\n",
       "      <td>1.618892e+09</td>\n",
       "      <td>1.618892e+09</td>\n",
       "      <td>1.618892e+15</td>\n",
       "    </tr>\n",
       "  </tbody>\n",
       "</table>\n",
       "</div>"
      ],
      "text/plain": [
       "                                  ad_id                 user_properties_ad_id  \\\n",
       "0  8c1573e7-f440-431e-b516-00c5b621fd63  8c1573e7-f440-431e-b516-00c5b621fd63   \n",
       "1  1d1ec878-3d36-46e5-a2cc-3bed46341679  1d1ec878-3d36-46e5-a2cc-3bed46341679   \n",
       "2  95511509-8065-4227-bd5a-a803ddbed7b6  95511509-8065-4227-bd5a-a803ddbed7b6   \n",
       "3  a42b11cd-da75-4043-897f-18c3f4d67c3e  a42b11cd-da75-4043-897f-18c3f4d67c3e   \n",
       "4  c1fb8a47-9bbb-4faa-935d-d533b985431a  c1fb8a47-9bbb-4faa-935d-d533b985431a   \n",
       "\n",
       "    event_timestamp  ga_session_id  ga_session_id_1  ga_session_id_timestamp  \n",
       "0  1618716504567000   1.618716e+09     1.618716e+09             1.618716e+15  \n",
       "1  1618080730037000   1.618081e+09     1.618081e+09             1.618081e+15  \n",
       "2  1618362123481000   1.618362e+09     1.618362e+09             1.618362e+15  \n",
       "3  1618572315366000   1.618572e+09     1.618572e+09             1.618572e+15  \n",
       "4  1618892539702000   1.618892e+09     1.618892e+09             1.618892e+15  "
      ]
     },
     "execution_count": 37,
     "metadata": {},
     "output_type": "execute_result"
    }
   ],
   "source": [
    "tutorial_day.head()"
   ]
  },
  {
   "cell_type": "code",
   "execution_count": 39,
   "id": "c1f25f10",
   "metadata": {},
   "outputs": [
    {
     "name": "stderr",
     "output_type": "stream",
     "text": [
      "/home/users/s17011730/.conda/envs/ujin/lib/python3.7/site-packages/pandas/core/frame.py:4174: SettingWithCopyWarning: \n",
      "A value is trying to be set on a copy of a slice from a DataFrame\n",
      "\n",
      "See the caveats in the documentation: https://pandas.pydata.org/pandas-docs/stable/user_guide/indexing.html#returning-a-view-versus-a-copy\n",
      "  errors=errors,\n"
     ]
    }
   ],
   "source": [
    "tutorial_day.drop(['user_properties_ad_id'],axis=1,inplace=True)"
   ]
  },
  {
   "cell_type": "code",
   "execution_count": 77,
   "id": "2918ce54",
   "metadata": {},
   "outputs": [
    {
     "name": "stdout",
     "output_type": "stream",
     "text": [
      "62\n",
      "62\n",
      "0\n"
     ]
    }
   ],
   "source": [
    "# ga_session_id null값\n",
    "print(len(tutorial_day[tutorial_day['ga_session_id'].isnull()]))\n",
    "print(len(tutorial_day[tutorial_day['ga_session_id_1'].isnull()]))\n",
    "\n",
    "#ga_session_id는 null값인데 ga_session_id_1은 null이 아닌것 (=차이)\n",
    "print(len(tutorial_day[(tutorial_day['ga_session_id'].isnull()) & ~(tutorial_day['ga_session_id_1'].isnull())]))"
   ]
  },
  {
   "cell_type": "code",
   "execution_count": 78,
   "id": "75cbcb43",
   "metadata": {},
   "outputs": [
    {
     "name": "stderr",
     "output_type": "stream",
     "text": [
      "/home/users/s17011730/.conda/envs/ujin/lib/python3.7/site-packages/pandas/core/frame.py:4174: SettingWithCopyWarning: \n",
      "A value is trying to be set on a copy of a slice from a DataFrame\n",
      "\n",
      "See the caveats in the documentation: https://pandas.pydata.org/pandas-docs/stable/user_guide/indexing.html#returning-a-view-versus-a-copy\n",
      "  errors=errors,\n"
     ]
    }
   ],
   "source": [
    "tutorial_day.drop(['ga_session_id_1'],axis=1,inplace=True)"
   ]
  },
  {
   "cell_type": "markdown",
   "id": "e021cd66",
   "metadata": {},
   "source": [
    "### play"
   ]
  },
  {
   "cell_type": "code",
   "execution_count": 32,
   "id": "1842144e",
   "metadata": {},
   "outputs": [
    {
     "data": {
      "text/html": [
       "<div>\n",
       "<style scoped>\n",
       "    .dataframe tbody tr th:only-of-type {\n",
       "        vertical-align: middle;\n",
       "    }\n",
       "\n",
       "    .dataframe tbody tr th {\n",
       "        vertical-align: top;\n",
       "    }\n",
       "\n",
       "    .dataframe thead th {\n",
       "        text-align: right;\n",
       "    }\n",
       "</style>\n",
       "<table border=\"1\" class=\"dataframe\">\n",
       "  <thead>\n",
       "    <tr style=\"text-align: right;\">\n",
       "      <th></th>\n",
       "      <th>ad_id</th>\n",
       "      <th>ad_id_1</th>\n",
       "      <th>event_timestamp</th>\n",
       "      <th>ga_session_id</th>\n",
       "      <th>ga_session_id_1</th>\n",
       "      <th>ga_session_id_timestamp</th>\n",
       "    </tr>\n",
       "  </thead>\n",
       "  <tbody>\n",
       "    <tr>\n",
       "      <th>0</th>\n",
       "      <td>569fdb52-56a4-4076-a4f6-c247873ffc5a</td>\n",
       "      <td>569fdb52-56a4-4076-a4f6-c247873ffc5a</td>\n",
       "      <td>1619483072339000</td>\n",
       "      <td>1.619482e+09</td>\n",
       "      <td>1.619482e+09</td>\n",
       "      <td>1.619482e+15</td>\n",
       "    </tr>\n",
       "    <tr>\n",
       "      <th>1</th>\n",
       "      <td>569fdb52-56a4-4076-a4f6-c247873ffc5a</td>\n",
       "      <td>569fdb52-56a4-4076-a4f6-c247873ffc5a</td>\n",
       "      <td>1619629757211000</td>\n",
       "      <td>1.619629e+09</td>\n",
       "      <td>1.619629e+09</td>\n",
       "      <td>1.619629e+15</td>\n",
       "    </tr>\n",
       "    <tr>\n",
       "      <th>2</th>\n",
       "      <td>daaa7ba2-8ad5-41f5-b28f-dd870220f441</td>\n",
       "      <td>daaa7ba2-8ad5-41f5-b28f-dd870220f441</td>\n",
       "      <td>1619710601201000</td>\n",
       "      <td>1.619710e+09</td>\n",
       "      <td>1.619710e+09</td>\n",
       "      <td>1.619710e+15</td>\n",
       "    </tr>\n",
       "    <tr>\n",
       "      <th>3</th>\n",
       "      <td>c70f1e8e-fe24-4fa5-9cd2-6e6c304967d0</td>\n",
       "      <td>c70f1e8e-fe24-4fa5-9cd2-6e6c304967d0</td>\n",
       "      <td>1620068491696001</td>\n",
       "      <td>1.620068e+09</td>\n",
       "      <td>1.620068e+09</td>\n",
       "      <td>1.620068e+15</td>\n",
       "    </tr>\n",
       "    <tr>\n",
       "      <th>4</th>\n",
       "      <td>5ae02696-bfee-4fff-b007-e4f6c0f6abd5</td>\n",
       "      <td>5ae02696-bfee-4fff-b007-e4f6c0f6abd5</td>\n",
       "      <td>1619283138284001</td>\n",
       "      <td>1.619282e+09</td>\n",
       "      <td>1.619282e+09</td>\n",
       "      <td>1.619282e+15</td>\n",
       "    </tr>\n",
       "  </tbody>\n",
       "</table>\n",
       "</div>"
      ],
      "text/plain": [
       "                                  ad_id                               ad_id_1  \\\n",
       "0  569fdb52-56a4-4076-a4f6-c247873ffc5a  569fdb52-56a4-4076-a4f6-c247873ffc5a   \n",
       "1  569fdb52-56a4-4076-a4f6-c247873ffc5a  569fdb52-56a4-4076-a4f6-c247873ffc5a   \n",
       "2  daaa7ba2-8ad5-41f5-b28f-dd870220f441  daaa7ba2-8ad5-41f5-b28f-dd870220f441   \n",
       "3  c70f1e8e-fe24-4fa5-9cd2-6e6c304967d0  c70f1e8e-fe24-4fa5-9cd2-6e6c304967d0   \n",
       "4  5ae02696-bfee-4fff-b007-e4f6c0f6abd5  5ae02696-bfee-4fff-b007-e4f6c0f6abd5   \n",
       "\n",
       "    event_timestamp  ga_session_id  ga_session_id_1  ga_session_id_timestamp  \n",
       "0  1619483072339000   1.619482e+09     1.619482e+09             1.619482e+15  \n",
       "1  1619629757211000   1.619629e+09     1.619629e+09             1.619629e+15  \n",
       "2  1619710601201000   1.619710e+09     1.619710e+09             1.619710e+15  \n",
       "3  1620068491696001   1.620068e+09     1.620068e+09             1.620068e+15  \n",
       "4  1619283138284001   1.619282e+09     1.619282e+09             1.619282e+15  "
      ]
     },
     "execution_count": 32,
     "metadata": {},
     "output_type": "execute_result"
    }
   ],
   "source": [
    "play_day = play[['ad_id','ad_id_1','event_timestamp','ga_session_id','ga_session_id_1','ga_session_id_timestamp']]\n",
    "play_day.head()"
   ]
  },
  {
   "cell_type": "code",
   "execution_count": 33,
   "id": "6d180f6d",
   "metadata": {},
   "outputs": [
    {
     "name": "stdout",
     "output_type": "stream",
     "text": [
      "92988\n",
      "92522\n",
      "889\n"
     ]
    }
   ],
   "source": [
    "# ad_id null값\n",
    "print(len(play_day[play_day['ad_id'].isnull()]))\n",
    "print(len(play_day[play_day['ad_id_1'].isnull()]))\n",
    "\n",
    "#ad_id는 null값인데 ad_id_1은 null이 아닌것 (=차이)\n",
    "print(len(play_day[(play_day['ad_id'].isnull()) & ~(play_day['ad_id_1'].isnull())]))"
   ]
  },
  {
   "cell_type": "code",
   "execution_count": 34,
   "id": "b1727855",
   "metadata": {},
   "outputs": [
    {
     "name": "stderr",
     "output_type": "stream",
     "text": [
      "/home/users/s17011730/.conda/envs/ujin/lib/python3.7/site-packages/pandas/core/indexing.py:1743: SettingWithCopyWarning: \n",
      "A value is trying to be set on a copy of a slice from a DataFrame.\n",
      "Try using .loc[row_indexer,col_indexer] = value instead\n",
      "\n",
      "See the caveats in the documentation: https://pandas.pydata.org/pandas-docs/stable/user_guide/indexing.html#returning-a-view-versus-a-copy\n",
      "  isetter(ilocs[0], value)\n"
     ]
    }
   ],
   "source": [
    " # 최종 ad_id를 생성\n",
    "index = play_day[play_day['ad_id'].isnull()].index\n",
    "play_day.loc[index, 'ad_id'] = play_day.loc[index, 'ad_id_1']"
   ]
  },
  {
   "cell_type": "code",
   "execution_count": 35,
   "id": "05186fb7",
   "metadata": {},
   "outputs": [
    {
     "name": "stdout",
     "output_type": "stream",
     "text": [
      "92099\n"
     ]
    }
   ],
   "source": [
    "# ad_id null값\n",
    "print(len(play_day[play_day['ad_id'].isnull()]))"
   ]
  },
  {
   "cell_type": "code",
   "execution_count": 40,
   "id": "0762e161",
   "metadata": {},
   "outputs": [],
   "source": [
    "play_day.drop(['ad_id_1'],axis=1,inplace=True)"
   ]
  },
  {
   "cell_type": "code",
   "execution_count": 71,
   "id": "ee8b283f",
   "metadata": {},
   "outputs": [
    {
     "name": "stdout",
     "output_type": "stream",
     "text": [
      "592\n",
      "592\n",
      "0\n"
     ]
    }
   ],
   "source": [
    "# ga_session_id null값\n",
    "print(len(play_day[play_day['ga_session_id'].isnull()]))\n",
    "print(len(play_day[play_day['ga_session_id_1'].isnull()]))\n",
    "\n",
    "#ga_session_id는 null값인데 ga_session_id_1은 null이 아닌것 (=차이)\n",
    "print(len(play_day[(play_day['ga_session_id'].isnull()) & ~(play_day['ga_session_id_1'].isnull())]))"
   ]
  },
  {
   "cell_type": "code",
   "execution_count": 73,
   "id": "5f065a88",
   "metadata": {},
   "outputs": [
    {
     "name": "stderr",
     "output_type": "stream",
     "text": [
      "/home/users/s17011730/.conda/envs/ujin/lib/python3.7/site-packages/pandas/core/frame.py:4174: SettingWithCopyWarning: \n",
      "A value is trying to be set on a copy of a slice from a DataFrame\n",
      "\n",
      "See the caveats in the documentation: https://pandas.pydata.org/pandas-docs/stable/user_guide/indexing.html#returning-a-view-versus-a-copy\n",
      "  errors=errors,\n"
     ]
    }
   ],
   "source": [
    "play_day.drop(['ga_session_id_1'], axis=1, inplace=True)"
   ]
  },
  {
   "cell_type": "markdown",
   "id": "221cfc82",
   "metadata": {},
   "source": [
    "### draw"
   ]
  },
  {
   "cell_type": "code",
   "execution_count": 41,
   "id": "abb96da4",
   "metadata": {},
   "outputs": [],
   "source": [
    "draw_day = draw[['ad_id','ad_id_1','event_timestamp','ga_session_id','ga_session_id_1','ga_session_id_timestamp']]"
   ]
  },
  {
   "cell_type": "code",
   "execution_count": 42,
   "id": "17f0fc7c",
   "metadata": {},
   "outputs": [
    {
     "name": "stdout",
     "output_type": "stream",
     "text": [
      "95256\n",
      "94771\n",
      "913\n"
     ]
    }
   ],
   "source": [
    "# ad_id null값\n",
    "print(len(draw_day[draw_day['ad_id'].isnull()]))\n",
    "print(len(draw_day[draw_day['ad_id_1'].isnull()]))\n",
    "\n",
    "#ad_id는 null값인데 ad_id_1은 null이 아닌것 (=차이)\n",
    "print(len(draw_day[(draw_day['ad_id'].isnull()) & ~(draw_day['ad_id_1'].isnull())]))"
   ]
  },
  {
   "cell_type": "code",
   "execution_count": 43,
   "id": "5aa4b04c",
   "metadata": {},
   "outputs": [
    {
     "name": "stderr",
     "output_type": "stream",
     "text": [
      "/home/users/s17011730/.conda/envs/ujin/lib/python3.7/site-packages/pandas/core/indexing.py:1743: SettingWithCopyWarning: \n",
      "A value is trying to be set on a copy of a slice from a DataFrame.\n",
      "Try using .loc[row_indexer,col_indexer] = value instead\n",
      "\n",
      "See the caveats in the documentation: https://pandas.pydata.org/pandas-docs/stable/user_guide/indexing.html#returning-a-view-versus-a-copy\n",
      "  isetter(ilocs[0], value)\n"
     ]
    }
   ],
   "source": [
    " # 최종 ad_id를 생성\n",
    "index = draw_day[draw_day['ad_id'].isnull()].index\n",
    "draw_day.loc[index, 'ad_id'] = draw_day.loc[index, 'ad_id_1']"
   ]
  },
  {
   "cell_type": "code",
   "execution_count": 44,
   "id": "ca96bd5f",
   "metadata": {},
   "outputs": [
    {
     "name": "stdout",
     "output_type": "stream",
     "text": [
      "94343\n"
     ]
    }
   ],
   "source": [
    "# ad_id null값\n",
    "print(len(draw_day[draw_day['ad_id'].isnull()]))"
   ]
  },
  {
   "cell_type": "code",
   "execution_count": 45,
   "id": "58291c56",
   "metadata": {},
   "outputs": [],
   "source": [
    "draw_day.drop(['ad_id_1'],axis=1,inplace=True)"
   ]
  },
  {
   "cell_type": "code",
   "execution_count": 69,
   "id": "00c85726",
   "metadata": {},
   "outputs": [
    {
     "name": "stdout",
     "output_type": "stream",
     "text": [
      "599\n",
      "599\n",
      "0\n"
     ]
    }
   ],
   "source": [
    "# ga_session_id null값\n",
    "print(len(draw_day[draw_day['ga_session_id'].isnull()]))\n",
    "print(len(draw_day[draw_day['ga_session_id_1'].isnull()]))\n",
    "\n",
    "#ga_session_id는 null값인데 ga_session_id_1은 null이 아닌것 (=차이)\n",
    "print(len(draw_day[(draw_day['ga_session_id'].isnull()) & ~(draw_day['ga_session_id_1'].isnull())]))"
   ]
  },
  {
   "cell_type": "code",
   "execution_count": 75,
   "id": "ee231a67",
   "metadata": {},
   "outputs": [],
   "source": [
    "draw_day.drop(['ga_session_id_1'], axis=1, inplace=True)"
   ]
  },
  {
   "cell_type": "markdown",
   "id": "ea541314",
   "metadata": {},
   "source": [
    "### stage"
   ]
  },
  {
   "cell_type": "code",
   "execution_count": 46,
   "id": "84548fe2",
   "metadata": {},
   "outputs": [],
   "source": [
    "stage_day = stage[['event_params_ad_id','user_properties_ad_id','event_timestamp','ga_session_id']]"
   ]
  },
  {
   "cell_type": "code",
   "execution_count": 47,
   "id": "10cb6ea9",
   "metadata": {},
   "outputs": [
    {
     "name": "stdout",
     "output_type": "stream",
     "text": [
      "92680\n",
      "92227\n",
      "877\n"
     ]
    }
   ],
   "source": [
    "# ad_id null값\n",
    "print(len(stage_day[stage_day['event_params_ad_id'].isnull()]))\n",
    "print(len(stage_day[stage_day['user_properties_ad_id'].isnull()]))\n",
    "\n",
    "#ad_id는 null값인데 ad_id_1은 null이 아닌것 (=차이)\n",
    "print(len(stage_day[(stage_day['event_params_ad_id'].isnull()) & ~(stage_day['user_properties_ad_id'].isnull())]))"
   ]
  },
  {
   "cell_type": "code",
   "execution_count": 49,
   "id": "c65e8641",
   "metadata": {},
   "outputs": [
    {
     "name": "stderr",
     "output_type": "stream",
     "text": [
      "/home/users/s17011730/.conda/envs/ujin/lib/python3.7/site-packages/pandas/core/frame.py:4308: SettingWithCopyWarning: \n",
      "A value is trying to be set on a copy of a slice from a DataFrame\n",
      "\n",
      "See the caveats in the documentation: https://pandas.pydata.org/pandas-docs/stable/user_guide/indexing.html#returning-a-view-versus-a-copy\n",
      "  errors=errors,\n"
     ]
    }
   ],
   "source": [
    " # 최종 ad_id를 생성\n",
    "index = stage_day[stage_day['event_params_ad_id'].isnull()].index\n",
    "stage_day.loc[index, 'event_params_ad_id'] = stage_day.loc[index, 'user_properties_ad_id']\n",
    "stage_day.rename({'event_params_ad_id' : 'ad_id'}, axis=1, inplace = True)"
   ]
  },
  {
   "cell_type": "code",
   "execution_count": 50,
   "id": "525aa56b",
   "metadata": {},
   "outputs": [
    {
     "name": "stdout",
     "output_type": "stream",
     "text": [
      "91803\n"
     ]
    }
   ],
   "source": [
    "# ad_id null값\n",
    "print(len(stage_day[stage_day['ad_id'].isnull()]))"
   ]
  },
  {
   "cell_type": "code",
   "execution_count": 53,
   "id": "bca6f028",
   "metadata": {},
   "outputs": [],
   "source": [
    "stage_day.drop(['user_properties_ad_id'],axis=1,inplace=True)"
   ]
  },
  {
   "cell_type": "markdown",
   "id": "2cd24f35",
   "metadata": {},
   "source": [
    "### asset"
   ]
  },
  {
   "cell_type": "code",
   "execution_count": 19,
   "id": "16c6696d",
   "metadata": {},
   "outputs": [
    {
     "data": {
      "text/html": [
       "<div>\n",
       "<style scoped>\n",
       "    .dataframe tbody tr th:only-of-type {\n",
       "        vertical-align: middle;\n",
       "    }\n",
       "\n",
       "    .dataframe tbody tr th {\n",
       "        vertical-align: top;\n",
       "    }\n",
       "\n",
       "    .dataframe thead th {\n",
       "        text-align: right;\n",
       "    }\n",
       "</style>\n",
       "<table border=\"1\" class=\"dataframe\">\n",
       "  <thead>\n",
       "    <tr style=\"text-align: right;\">\n",
       "      <th></th>\n",
       "      <th>ad_id</th>\n",
       "      <th>ga_session_id</th>\n",
       "      <th>event_timestamp</th>\n",
       "      <th>event_date</th>\n",
       "    </tr>\n",
       "  </thead>\n",
       "  <tbody>\n",
       "    <tr>\n",
       "      <th>0</th>\n",
       "      <td>37f17865-1a1b-4887-bf38-5ae581ec09cb</td>\n",
       "      <td>1.617937e+09</td>\n",
       "      <td>1617936778478001</td>\n",
       "      <td>20210408</td>\n",
       "    </tr>\n",
       "    <tr>\n",
       "      <th>1</th>\n",
       "      <td>9a822b84-27d2-48c4-98d6-c87fa0a7b53a</td>\n",
       "      <td>1.618344e+09</td>\n",
       "      <td>1618344330246000</td>\n",
       "      <td>20210413</td>\n",
       "    </tr>\n",
       "    <tr>\n",
       "      <th>2</th>\n",
       "      <td>a39616e3-243c-4c04-b8d3-1a016111d84c</td>\n",
       "      <td>1.619197e+09</td>\n",
       "      <td>1619197472119001</td>\n",
       "      <td>20210423</td>\n",
       "    </tr>\n",
       "    <tr>\n",
       "      <th>3</th>\n",
       "      <td>f05a743d-18ca-455f-9a0d-0ae4abacc5f3</td>\n",
       "      <td>1.619172e+09</td>\n",
       "      <td>1619171971610000</td>\n",
       "      <td>20210423</td>\n",
       "    </tr>\n",
       "    <tr>\n",
       "      <th>4</th>\n",
       "      <td>a39616e3-243c-4c04-b8d3-1a016111d84c</td>\n",
       "      <td>1.619008e+09</td>\n",
       "      <td>1619007945504000</td>\n",
       "      <td>20210421</td>\n",
       "    </tr>\n",
       "    <tr>\n",
       "      <th>...</th>\n",
       "      <td>...</td>\n",
       "      <td>...</td>\n",
       "      <td>...</td>\n",
       "      <td>...</td>\n",
       "    </tr>\n",
       "    <tr>\n",
       "      <th>6231057</th>\n",
       "      <td>ba9a85e8-745f-4189-bac1-37dadb26c0e4</td>\n",
       "      <td>1.619447e+09</td>\n",
       "      <td>1619446905977000</td>\n",
       "      <td>20210426</td>\n",
       "    </tr>\n",
       "    <tr>\n",
       "      <th>6231058</th>\n",
       "      <td>c9000a27-6fd5-4eb1-b728-286561c707ca</td>\n",
       "      <td>1.619539e+09</td>\n",
       "      <td>1619538983636000</td>\n",
       "      <td>20210427</td>\n",
       "    </tr>\n",
       "    <tr>\n",
       "      <th>6231059</th>\n",
       "      <td>f296c0d9-7daa-43b4-a636-0863c082bb18</td>\n",
       "      <td>1.619550e+09</td>\n",
       "      <td>1619550395775001</td>\n",
       "      <td>20210427</td>\n",
       "    </tr>\n",
       "    <tr>\n",
       "      <th>6231060</th>\n",
       "      <td>569fdb52-56a4-4076-a4f6-c247873ffc5a</td>\n",
       "      <td>1.619462e+09</td>\n",
       "      <td>1619463737466000</td>\n",
       "      <td>20210426</td>\n",
       "    </tr>\n",
       "    <tr>\n",
       "      <th>6231061</th>\n",
       "      <td>404c2c55-da74-4d90-9b41-3e7b202dcce6</td>\n",
       "      <td>1.620054e+09</td>\n",
       "      <td>1620053991591000</td>\n",
       "      <td>20210503</td>\n",
       "    </tr>\n",
       "  </tbody>\n",
       "</table>\n",
       "<p>6231062 rows × 4 columns</p>\n",
       "</div>"
      ],
      "text/plain": [
       "                                        ad_id  ga_session_id  \\\n",
       "0        37f17865-1a1b-4887-bf38-5ae581ec09cb   1.617937e+09   \n",
       "1        9a822b84-27d2-48c4-98d6-c87fa0a7b53a   1.618344e+09   \n",
       "2        a39616e3-243c-4c04-b8d3-1a016111d84c   1.619197e+09   \n",
       "3        f05a743d-18ca-455f-9a0d-0ae4abacc5f3   1.619172e+09   \n",
       "4        a39616e3-243c-4c04-b8d3-1a016111d84c   1.619008e+09   \n",
       "...                                       ...            ...   \n",
       "6231057  ba9a85e8-745f-4189-bac1-37dadb26c0e4   1.619447e+09   \n",
       "6231058  c9000a27-6fd5-4eb1-b728-286561c707ca   1.619539e+09   \n",
       "6231059  f296c0d9-7daa-43b4-a636-0863c082bb18   1.619550e+09   \n",
       "6231060  569fdb52-56a4-4076-a4f6-c247873ffc5a   1.619462e+09   \n",
       "6231061  404c2c55-da74-4d90-9b41-3e7b202dcce6   1.620054e+09   \n",
       "\n",
       "          event_timestamp  event_date  \n",
       "0        1617936778478001    20210408  \n",
       "1        1618344330246000    20210413  \n",
       "2        1619197472119001    20210423  \n",
       "3        1619171971610000    20210423  \n",
       "4        1619007945504000    20210421  \n",
       "...                   ...         ...  \n",
       "6231057  1619446905977000    20210426  \n",
       "6231058  1619538983636000    20210427  \n",
       "6231059  1619550395775001    20210427  \n",
       "6231060  1619463737466000    20210426  \n",
       "6231061  1620053991591000    20210503  \n",
       "\n",
       "[6231062 rows x 4 columns]"
      ]
     },
     "execution_count": 19,
     "metadata": {},
     "output_type": "execute_result"
    }
   ],
   "source": [
    "asset"
   ]
  },
  {
   "cell_type": "markdown",
   "id": "dbae51ef",
   "metadata": {},
   "source": [
    "### ads"
   ]
  },
  {
   "cell_type": "code",
   "execution_count": 20,
   "id": "e95b0afd",
   "metadata": {},
   "outputs": [
    {
     "data": {
      "text/html": [
       "<div>\n",
       "<style scoped>\n",
       "    .dataframe tbody tr th:only-of-type {\n",
       "        vertical-align: middle;\n",
       "    }\n",
       "\n",
       "    .dataframe tbody tr th {\n",
       "        vertical-align: top;\n",
       "    }\n",
       "\n",
       "    .dataframe thead th {\n",
       "        text-align: right;\n",
       "    }\n",
       "</style>\n",
       "<table border=\"1\" class=\"dataframe\">\n",
       "  <thead>\n",
       "    <tr style=\"text-align: right;\">\n",
       "      <th></th>\n",
       "      <th>ad_id</th>\n",
       "      <th>ga_session_id</th>\n",
       "      <th>event_timestamp</th>\n",
       "      <th>event_date</th>\n",
       "    </tr>\n",
       "  </thead>\n",
       "  <tbody>\n",
       "    <tr>\n",
       "      <th>0</th>\n",
       "      <td>a39616e3-243c-4c04-b8d3-1a016111d84c</td>\n",
       "      <td>1.618947e+09</td>\n",
       "      <td>1618947173023000</td>\n",
       "      <td>20210420</td>\n",
       "    </tr>\n",
       "    <tr>\n",
       "      <th>1</th>\n",
       "      <td>8abadb82-ab32-4031-9f66-441c2f6f8105</td>\n",
       "      <td>1.618705e+09</td>\n",
       "      <td>1618705516341000</td>\n",
       "      <td>20210417</td>\n",
       "    </tr>\n",
       "    <tr>\n",
       "      <th>2</th>\n",
       "      <td>e8833098-5ed2-45b5-8235-55313a3f586c</td>\n",
       "      <td>1.619141e+09</td>\n",
       "      <td>1619142602896000</td>\n",
       "      <td>20210422</td>\n",
       "    </tr>\n",
       "    <tr>\n",
       "      <th>3</th>\n",
       "      <td>65c6fca1-8c93-4cd1-a9ee-33085f5f52a1</td>\n",
       "      <td>1.618375e+09</td>\n",
       "      <td>1618376219124000</td>\n",
       "      <td>20210413</td>\n",
       "    </tr>\n",
       "    <tr>\n",
       "      <th>4</th>\n",
       "      <td>936e255b-9ad8-4f59-ae6c-54dc95c0eabe</td>\n",
       "      <td>1.619381e+09</td>\n",
       "      <td>1619383858780000</td>\n",
       "      <td>20210425</td>\n",
       "    </tr>\n",
       "    <tr>\n",
       "      <th>...</th>\n",
       "      <td>...</td>\n",
       "      <td>...</td>\n",
       "      <td>...</td>\n",
       "      <td>...</td>\n",
       "    </tr>\n",
       "    <tr>\n",
       "      <th>17291367</th>\n",
       "      <td>569fdb52-56a4-4076-a4f6-c247873ffc5a</td>\n",
       "      <td>1.619462e+09</td>\n",
       "      <td>1619462608443000</td>\n",
       "      <td>20210426</td>\n",
       "    </tr>\n",
       "    <tr>\n",
       "      <th>17291368</th>\n",
       "      <td>c9000a27-6fd5-4eb1-b728-286561c707ca</td>\n",
       "      <td>1.619309e+09</td>\n",
       "      <td>1619311478068000</td>\n",
       "      <td>20210424</td>\n",
       "    </tr>\n",
       "    <tr>\n",
       "      <th>17291369</th>\n",
       "      <td>c9000a27-6fd5-4eb1-b728-286561c707ca</td>\n",
       "      <td>1.619309e+09</td>\n",
       "      <td>1619311575962000</td>\n",
       "      <td>20210424</td>\n",
       "    </tr>\n",
       "    <tr>\n",
       "      <th>17291370</th>\n",
       "      <td>5ae02696-bfee-4fff-b007-e4f6c0f6abd5</td>\n",
       "      <td>1.619282e+09</td>\n",
       "      <td>1619282788620000</td>\n",
       "      <td>20210424</td>\n",
       "    </tr>\n",
       "    <tr>\n",
       "      <th>17291371</th>\n",
       "      <td>5ae02696-bfee-4fff-b007-e4f6c0f6abd5</td>\n",
       "      <td>1.619282e+09</td>\n",
       "      <td>1619282842518000</td>\n",
       "      <td>20210424</td>\n",
       "    </tr>\n",
       "  </tbody>\n",
       "</table>\n",
       "<p>17291372 rows × 4 columns</p>\n",
       "</div>"
      ],
      "text/plain": [
       "                                         ad_id  ga_session_id  \\\n",
       "0         a39616e3-243c-4c04-b8d3-1a016111d84c   1.618947e+09   \n",
       "1         8abadb82-ab32-4031-9f66-441c2f6f8105   1.618705e+09   \n",
       "2         e8833098-5ed2-45b5-8235-55313a3f586c   1.619141e+09   \n",
       "3         65c6fca1-8c93-4cd1-a9ee-33085f5f52a1   1.618375e+09   \n",
       "4         936e255b-9ad8-4f59-ae6c-54dc95c0eabe   1.619381e+09   \n",
       "...                                        ...            ...   \n",
       "17291367  569fdb52-56a4-4076-a4f6-c247873ffc5a   1.619462e+09   \n",
       "17291368  c9000a27-6fd5-4eb1-b728-286561c707ca   1.619309e+09   \n",
       "17291369  c9000a27-6fd5-4eb1-b728-286561c707ca   1.619309e+09   \n",
       "17291370  5ae02696-bfee-4fff-b007-e4f6c0f6abd5   1.619282e+09   \n",
       "17291371  5ae02696-bfee-4fff-b007-e4f6c0f6abd5   1.619282e+09   \n",
       "\n",
       "           event_timestamp  event_date  \n",
       "0         1618947173023000    20210420  \n",
       "1         1618705516341000    20210417  \n",
       "2         1619142602896000    20210422  \n",
       "3         1618376219124000    20210413  \n",
       "4         1619383858780000    20210425  \n",
       "...                    ...         ...  \n",
       "17291367  1619462608443000    20210426  \n",
       "17291368  1619311478068000    20210424  \n",
       "17291369  1619311575962000    20210424  \n",
       "17291370  1619282788620000    20210424  \n",
       "17291371  1619282842518000    20210424  \n",
       "\n",
       "[17291372 rows x 4 columns]"
      ]
     },
     "execution_count": 20,
     "metadata": {},
     "output_type": "execute_result"
    }
   ],
   "source": [
    "ads"
   ]
  },
  {
   "cell_type": "markdown",
   "id": "139b6046",
   "metadata": {},
   "source": [
    "### activity"
   ]
  },
  {
   "cell_type": "code",
   "execution_count": 54,
   "id": "a4712615",
   "metadata": {},
   "outputs": [],
   "source": [
    "activity_day = activity[['ad_id','ad_id_1','event_timestamp','ga_session_id','ga_session_id_1','ga_session_id_timestamp']]"
   ]
  },
  {
   "cell_type": "code",
   "execution_count": 55,
   "id": "4efe7434",
   "metadata": {},
   "outputs": [
    {
     "name": "stdout",
     "output_type": "stream",
     "text": [
      "10451\n",
      "10517\n",
      "42\n"
     ]
    }
   ],
   "source": [
    "# ad_id null값\n",
    "print(len(activity_day[activity_day['ad_id'].isnull()]))\n",
    "print(len(activity_day[activity_day['ad_id_1'].isnull()]))\n",
    "\n",
    "#ad_id는 null값인데 ad_id_1은 null이 아닌것 (=차이)\n",
    "print(len(activity_day[(activity_day['ad_id'].isnull()) & ~(activity_day['ad_id_1'].isnull())]))"
   ]
  },
  {
   "cell_type": "code",
   "execution_count": 56,
   "id": "31430cce",
   "metadata": {},
   "outputs": [],
   "source": [
    " # 최종 ad_id를 생성\n",
    "index = activity_day[activity_day['ad_id'].isnull()].index\n",
    "activity_day.loc[index, 'ad_id'] = activity_day.loc[index, 'ad_id_1']"
   ]
  },
  {
   "cell_type": "code",
   "execution_count": 57,
   "id": "378fd0e3",
   "metadata": {},
   "outputs": [
    {
     "name": "stdout",
     "output_type": "stream",
     "text": [
      "10409\n"
     ]
    }
   ],
   "source": [
    "# ad_id null값\n",
    "print(len(activity_day[activity_day['ad_id'].isnull()]))"
   ]
  },
  {
   "cell_type": "code",
   "execution_count": 58,
   "id": "0db28bd6",
   "metadata": {},
   "outputs": [],
   "source": [
    "activity_day.drop(['ad_id_1'],axis=1,inplace=True)"
   ]
  },
  {
   "cell_type": "code",
   "execution_count": 86,
   "id": "a6e02bd8",
   "metadata": {},
   "outputs": [
    {
     "name": "stdout",
     "output_type": "stream",
     "text": [
      "90\n",
      "90\n",
      "0\n"
     ]
    }
   ],
   "source": [
    "# ga_session_id null값\n",
    "print(len(activity_day[activity_day['ga_session_id'].isnull()]))\n",
    "print(len(activity_day[activity_day['ga_session_id_1'].isnull()]))\n",
    "\n",
    "#ga_session_id는 null값인데 ga_session_id_1은 null이 아닌것 (=차이)\n",
    "print(len(activity_day[(activity_day['ga_session_id'].isnull()) & ~(activity_day['ga_session_id_1'].isnull())]))"
   ]
  },
  {
   "cell_type": "code",
   "execution_count": 87,
   "id": "f1d136c4",
   "metadata": {},
   "outputs": [
    {
     "name": "stderr",
     "output_type": "stream",
     "text": [
      "/home/users/s17011730/.conda/envs/ujin/lib/python3.7/site-packages/pandas/core/frame.py:4174: SettingWithCopyWarning: \n",
      "A value is trying to be set on a copy of a slice from a DataFrame\n",
      "\n",
      "See the caveats in the documentation: https://pandas.pydata.org/pandas-docs/stable/user_guide/indexing.html#returning-a-view-versus-a-copy\n",
      "  errors=errors,\n"
     ]
    }
   ],
   "source": [
    "activity_day.drop(['ga_session_id_1'],axis=1,inplace=True)"
   ]
  },
  {
   "cell_type": "markdown",
   "id": "add41327",
   "metadata": {},
   "source": [
    "# join"
   ]
  },
  {
   "cell_type": "code",
   "execution_count": 79,
   "id": "35512e08",
   "metadata": {
    "scrolled": true
   },
   "outputs": [
    {
     "data": {
      "text/html": [
       "<div>\n",
       "<style scoped>\n",
       "    .dataframe tbody tr th:only-of-type {\n",
       "        vertical-align: middle;\n",
       "    }\n",
       "\n",
       "    .dataframe tbody tr th {\n",
       "        vertical-align: top;\n",
       "    }\n",
       "\n",
       "    .dataframe thead th {\n",
       "        text-align: right;\n",
       "    }\n",
       "</style>\n",
       "<table border=\"1\" class=\"dataframe\">\n",
       "  <thead>\n",
       "    <tr style=\"text-align: right;\">\n",
       "      <th></th>\n",
       "      <th>ad_id</th>\n",
       "      <th>event_timestamp</th>\n",
       "      <th>ga_session_id</th>\n",
       "      <th>ga_session_id_timestamp</th>\n",
       "    </tr>\n",
       "  </thead>\n",
       "  <tbody>\n",
       "    <tr>\n",
       "      <th>0</th>\n",
       "      <td>8c1573e7-f440-431e-b516-00c5b621fd63</td>\n",
       "      <td>1618716504567000</td>\n",
       "      <td>1.618716e+09</td>\n",
       "      <td>1.618716e+15</td>\n",
       "    </tr>\n",
       "    <tr>\n",
       "      <th>1</th>\n",
       "      <td>1d1ec878-3d36-46e5-a2cc-3bed46341679</td>\n",
       "      <td>1618080730037000</td>\n",
       "      <td>1.618081e+09</td>\n",
       "      <td>1.618081e+15</td>\n",
       "    </tr>\n",
       "    <tr>\n",
       "      <th>2</th>\n",
       "      <td>95511509-8065-4227-bd5a-a803ddbed7b6</td>\n",
       "      <td>1618362123481000</td>\n",
       "      <td>1.618362e+09</td>\n",
       "      <td>1.618362e+15</td>\n",
       "    </tr>\n",
       "    <tr>\n",
       "      <th>3</th>\n",
       "      <td>a42b11cd-da75-4043-897f-18c3f4d67c3e</td>\n",
       "      <td>1618572315366000</td>\n",
       "      <td>1.618572e+09</td>\n",
       "      <td>1.618572e+15</td>\n",
       "    </tr>\n",
       "    <tr>\n",
       "      <th>4</th>\n",
       "      <td>c1fb8a47-9bbb-4faa-935d-d533b985431a</td>\n",
       "      <td>1618892539702000</td>\n",
       "      <td>1.618892e+09</td>\n",
       "      <td>1.618892e+15</td>\n",
       "    </tr>\n",
       "  </tbody>\n",
       "</table>\n",
       "</div>"
      ],
      "text/plain": [
       "                                  ad_id   event_timestamp  ga_session_id  \\\n",
       "0  8c1573e7-f440-431e-b516-00c5b621fd63  1618716504567000   1.618716e+09   \n",
       "1  1d1ec878-3d36-46e5-a2cc-3bed46341679  1618080730037000   1.618081e+09   \n",
       "2  95511509-8065-4227-bd5a-a803ddbed7b6  1618362123481000   1.618362e+09   \n",
       "3  a42b11cd-da75-4043-897f-18c3f4d67c3e  1618572315366000   1.618572e+09   \n",
       "4  c1fb8a47-9bbb-4faa-935d-d533b985431a  1618892539702000   1.618892e+09   \n",
       "\n",
       "   ga_session_id_timestamp  \n",
       "0             1.618716e+15  \n",
       "1             1.618081e+15  \n",
       "2             1.618362e+15  \n",
       "3             1.618572e+15  \n",
       "4             1.618892e+15  "
      ]
     },
     "execution_count": 79,
     "metadata": {},
     "output_type": "execute_result"
    }
   ],
   "source": [
    "tutorial_day.head()"
   ]
  },
  {
   "cell_type": "code",
   "execution_count": 80,
   "id": "67465dbc",
   "metadata": {},
   "outputs": [
    {
     "data": {
      "text/html": [
       "<div>\n",
       "<style scoped>\n",
       "    .dataframe tbody tr th:only-of-type {\n",
       "        vertical-align: middle;\n",
       "    }\n",
       "\n",
       "    .dataframe tbody tr th {\n",
       "        vertical-align: top;\n",
       "    }\n",
       "\n",
       "    .dataframe thead th {\n",
       "        text-align: right;\n",
       "    }\n",
       "</style>\n",
       "<table border=\"1\" class=\"dataframe\">\n",
       "  <thead>\n",
       "    <tr style=\"text-align: right;\">\n",
       "      <th></th>\n",
       "      <th>ad_id</th>\n",
       "      <th>event_timestamp</th>\n",
       "      <th>ga_session_id</th>\n",
       "      <th>ga_session_id_timestamp</th>\n",
       "    </tr>\n",
       "  </thead>\n",
       "  <tbody>\n",
       "    <tr>\n",
       "      <th>0</th>\n",
       "      <td>569fdb52-56a4-4076-a4f6-c247873ffc5a</td>\n",
       "      <td>1619483072339000</td>\n",
       "      <td>1.619482e+09</td>\n",
       "      <td>1.619482e+15</td>\n",
       "    </tr>\n",
       "    <tr>\n",
       "      <th>1</th>\n",
       "      <td>569fdb52-56a4-4076-a4f6-c247873ffc5a</td>\n",
       "      <td>1619629757211000</td>\n",
       "      <td>1.619629e+09</td>\n",
       "      <td>1.619629e+15</td>\n",
       "    </tr>\n",
       "    <tr>\n",
       "      <th>2</th>\n",
       "      <td>daaa7ba2-8ad5-41f5-b28f-dd870220f441</td>\n",
       "      <td>1619710601201000</td>\n",
       "      <td>1.619710e+09</td>\n",
       "      <td>1.619710e+15</td>\n",
       "    </tr>\n",
       "    <tr>\n",
       "      <th>3</th>\n",
       "      <td>c70f1e8e-fe24-4fa5-9cd2-6e6c304967d0</td>\n",
       "      <td>1620068491696001</td>\n",
       "      <td>1.620068e+09</td>\n",
       "      <td>1.620068e+15</td>\n",
       "    </tr>\n",
       "    <tr>\n",
       "      <th>4</th>\n",
       "      <td>5ae02696-bfee-4fff-b007-e4f6c0f6abd5</td>\n",
       "      <td>1619283138284001</td>\n",
       "      <td>1.619282e+09</td>\n",
       "      <td>1.619282e+15</td>\n",
       "    </tr>\n",
       "  </tbody>\n",
       "</table>\n",
       "</div>"
      ],
      "text/plain": [
       "                                  ad_id   event_timestamp  ga_session_id  \\\n",
       "0  569fdb52-56a4-4076-a4f6-c247873ffc5a  1619483072339000   1.619482e+09   \n",
       "1  569fdb52-56a4-4076-a4f6-c247873ffc5a  1619629757211000   1.619629e+09   \n",
       "2  daaa7ba2-8ad5-41f5-b28f-dd870220f441  1619710601201000   1.619710e+09   \n",
       "3  c70f1e8e-fe24-4fa5-9cd2-6e6c304967d0  1620068491696001   1.620068e+09   \n",
       "4  5ae02696-bfee-4fff-b007-e4f6c0f6abd5  1619283138284001   1.619282e+09   \n",
       "\n",
       "   ga_session_id_timestamp  \n",
       "0             1.619482e+15  \n",
       "1             1.619629e+15  \n",
       "2             1.619710e+15  \n",
       "3             1.620068e+15  \n",
       "4             1.619282e+15  "
      ]
     },
     "execution_count": 80,
     "metadata": {},
     "output_type": "execute_result"
    }
   ],
   "source": [
    "play_day.head()"
   ]
  },
  {
   "cell_type": "code",
   "execution_count": 81,
   "id": "41730c0c",
   "metadata": {},
   "outputs": [
    {
     "data": {
      "text/html": [
       "<div>\n",
       "<style scoped>\n",
       "    .dataframe tbody tr th:only-of-type {\n",
       "        vertical-align: middle;\n",
       "    }\n",
       "\n",
       "    .dataframe tbody tr th {\n",
       "        vertical-align: top;\n",
       "    }\n",
       "\n",
       "    .dataframe thead th {\n",
       "        text-align: right;\n",
       "    }\n",
       "</style>\n",
       "<table border=\"1\" class=\"dataframe\">\n",
       "  <thead>\n",
       "    <tr style=\"text-align: right;\">\n",
       "      <th></th>\n",
       "      <th>ad_id</th>\n",
       "      <th>event_timestamp</th>\n",
       "      <th>ga_session_id</th>\n",
       "      <th>ga_session_id_timestamp</th>\n",
       "    </tr>\n",
       "  </thead>\n",
       "  <tbody>\n",
       "    <tr>\n",
       "      <th>0</th>\n",
       "      <td>569fdb52-56a4-4076-a4f6-c247873ffc5a</td>\n",
       "      <td>1619630104974000</td>\n",
       "      <td>1.619629e+09</td>\n",
       "      <td>1.619629e+15</td>\n",
       "    </tr>\n",
       "    <tr>\n",
       "      <th>1</th>\n",
       "      <td>569fdb52-56a4-4076-a4f6-c247873ffc5a</td>\n",
       "      <td>1619629776548000</td>\n",
       "      <td>1.619629e+09</td>\n",
       "      <td>1.619629e+15</td>\n",
       "    </tr>\n",
       "    <tr>\n",
       "      <th>2</th>\n",
       "      <td>daaa7ba2-8ad5-41f5-b28f-dd870220f441</td>\n",
       "      <td>1619710418342000</td>\n",
       "      <td>1.619710e+09</td>\n",
       "      <td>1.619710e+15</td>\n",
       "    </tr>\n",
       "    <tr>\n",
       "      <th>3</th>\n",
       "      <td>9d02fb64-9f16-41a1-8a7c-f1332603831f</td>\n",
       "      <td>1620272513315000</td>\n",
       "      <td>1.620272e+09</td>\n",
       "      <td>1.620272e+15</td>\n",
       "    </tr>\n",
       "    <tr>\n",
       "      <th>4</th>\n",
       "      <td>2def2bf6-7568-4e6d-b6ef-d937c9952550</td>\n",
       "      <td>1619654071444000</td>\n",
       "      <td>1.619654e+09</td>\n",
       "      <td>1.619654e+15</td>\n",
       "    </tr>\n",
       "  </tbody>\n",
       "</table>\n",
       "</div>"
      ],
      "text/plain": [
       "                                  ad_id   event_timestamp  ga_session_id  \\\n",
       "0  569fdb52-56a4-4076-a4f6-c247873ffc5a  1619630104974000   1.619629e+09   \n",
       "1  569fdb52-56a4-4076-a4f6-c247873ffc5a  1619629776548000   1.619629e+09   \n",
       "2  daaa7ba2-8ad5-41f5-b28f-dd870220f441  1619710418342000   1.619710e+09   \n",
       "3  9d02fb64-9f16-41a1-8a7c-f1332603831f  1620272513315000   1.620272e+09   \n",
       "4  2def2bf6-7568-4e6d-b6ef-d937c9952550  1619654071444000   1.619654e+09   \n",
       "\n",
       "   ga_session_id_timestamp  \n",
       "0             1.619629e+15  \n",
       "1             1.619629e+15  \n",
       "2             1.619710e+15  \n",
       "3             1.620272e+15  \n",
       "4             1.619654e+15  "
      ]
     },
     "execution_count": 81,
     "metadata": {},
     "output_type": "execute_result"
    }
   ],
   "source": [
    "draw_day.head()"
   ]
  },
  {
   "cell_type": "code",
   "execution_count": 82,
   "id": "58bae03c",
   "metadata": {},
   "outputs": [
    {
     "data": {
      "text/html": [
       "<div>\n",
       "<style scoped>\n",
       "    .dataframe tbody tr th:only-of-type {\n",
       "        vertical-align: middle;\n",
       "    }\n",
       "\n",
       "    .dataframe tbody tr th {\n",
       "        vertical-align: top;\n",
       "    }\n",
       "\n",
       "    .dataframe thead th {\n",
       "        text-align: right;\n",
       "    }\n",
       "</style>\n",
       "<table border=\"1\" class=\"dataframe\">\n",
       "  <thead>\n",
       "    <tr style=\"text-align: right;\">\n",
       "      <th></th>\n",
       "      <th>ad_id</th>\n",
       "      <th>event_timestamp</th>\n",
       "      <th>ga_session_id</th>\n",
       "    </tr>\n",
       "  </thead>\n",
       "  <tbody>\n",
       "    <tr>\n",
       "      <th>0</th>\n",
       "      <td>de26c090-8592-4b97-af22-1a729ddce86d</td>\n",
       "      <td>1619450317377000</td>\n",
       "      <td>1.619450e+09</td>\n",
       "    </tr>\n",
       "    <tr>\n",
       "      <th>1</th>\n",
       "      <td>de26c090-8592-4b97-af22-1a729ddce86d</td>\n",
       "      <td>1619450388826000</td>\n",
       "      <td>1.619450e+09</td>\n",
       "    </tr>\n",
       "    <tr>\n",
       "      <th>2</th>\n",
       "      <td>de26c090-8592-4b97-af22-1a729ddce86d</td>\n",
       "      <td>1619927749378000</td>\n",
       "      <td>1.619927e+09</td>\n",
       "    </tr>\n",
       "    <tr>\n",
       "      <th>3</th>\n",
       "      <td>de26c090-8592-4b97-af22-1a729ddce86d</td>\n",
       "      <td>1619927849325000</td>\n",
       "      <td>1.619927e+09</td>\n",
       "    </tr>\n",
       "    <tr>\n",
       "      <th>4</th>\n",
       "      <td>996225a8-c957-42d7-80b3-29354eba6d87</td>\n",
       "      <td>1618935956987000</td>\n",
       "      <td>1.618934e+09</td>\n",
       "    </tr>\n",
       "  </tbody>\n",
       "</table>\n",
       "</div>"
      ],
      "text/plain": [
       "                                  ad_id   event_timestamp  ga_session_id\n",
       "0  de26c090-8592-4b97-af22-1a729ddce86d  1619450317377000   1.619450e+09\n",
       "1  de26c090-8592-4b97-af22-1a729ddce86d  1619450388826000   1.619450e+09\n",
       "2  de26c090-8592-4b97-af22-1a729ddce86d  1619927749378000   1.619927e+09\n",
       "3  de26c090-8592-4b97-af22-1a729ddce86d  1619927849325000   1.619927e+09\n",
       "4  996225a8-c957-42d7-80b3-29354eba6d87  1618935956987000   1.618934e+09"
      ]
     },
     "execution_count": 82,
     "metadata": {},
     "output_type": "execute_result"
    }
   ],
   "source": [
    "stage_day.head()"
   ]
  },
  {
   "cell_type": "code",
   "execution_count": 83,
   "id": "3af05cbc",
   "metadata": {},
   "outputs": [
    {
     "data": {
      "text/html": [
       "<div>\n",
       "<style scoped>\n",
       "    .dataframe tbody tr th:only-of-type {\n",
       "        vertical-align: middle;\n",
       "    }\n",
       "\n",
       "    .dataframe tbody tr th {\n",
       "        vertical-align: top;\n",
       "    }\n",
       "\n",
       "    .dataframe thead th {\n",
       "        text-align: right;\n",
       "    }\n",
       "</style>\n",
       "<table border=\"1\" class=\"dataframe\">\n",
       "  <thead>\n",
       "    <tr style=\"text-align: right;\">\n",
       "      <th></th>\n",
       "      <th>ad_id</th>\n",
       "      <th>ga_session_id</th>\n",
       "      <th>event_timestamp</th>\n",
       "      <th>event_date</th>\n",
       "    </tr>\n",
       "  </thead>\n",
       "  <tbody>\n",
       "    <tr>\n",
       "      <th>0</th>\n",
       "      <td>37f17865-1a1b-4887-bf38-5ae581ec09cb</td>\n",
       "      <td>1.617937e+09</td>\n",
       "      <td>1617936778478001</td>\n",
       "      <td>20210408</td>\n",
       "    </tr>\n",
       "    <tr>\n",
       "      <th>1</th>\n",
       "      <td>9a822b84-27d2-48c4-98d6-c87fa0a7b53a</td>\n",
       "      <td>1.618344e+09</td>\n",
       "      <td>1618344330246000</td>\n",
       "      <td>20210413</td>\n",
       "    </tr>\n",
       "    <tr>\n",
       "      <th>2</th>\n",
       "      <td>a39616e3-243c-4c04-b8d3-1a016111d84c</td>\n",
       "      <td>1.619197e+09</td>\n",
       "      <td>1619197472119001</td>\n",
       "      <td>20210423</td>\n",
       "    </tr>\n",
       "    <tr>\n",
       "      <th>3</th>\n",
       "      <td>f05a743d-18ca-455f-9a0d-0ae4abacc5f3</td>\n",
       "      <td>1.619172e+09</td>\n",
       "      <td>1619171971610000</td>\n",
       "      <td>20210423</td>\n",
       "    </tr>\n",
       "    <tr>\n",
       "      <th>4</th>\n",
       "      <td>a39616e3-243c-4c04-b8d3-1a016111d84c</td>\n",
       "      <td>1.619008e+09</td>\n",
       "      <td>1619007945504000</td>\n",
       "      <td>20210421</td>\n",
       "    </tr>\n",
       "  </tbody>\n",
       "</table>\n",
       "</div>"
      ],
      "text/plain": [
       "                                  ad_id  ga_session_id   event_timestamp  \\\n",
       "0  37f17865-1a1b-4887-bf38-5ae581ec09cb   1.617937e+09  1617936778478001   \n",
       "1  9a822b84-27d2-48c4-98d6-c87fa0a7b53a   1.618344e+09  1618344330246000   \n",
       "2  a39616e3-243c-4c04-b8d3-1a016111d84c   1.619197e+09  1619197472119001   \n",
       "3  f05a743d-18ca-455f-9a0d-0ae4abacc5f3   1.619172e+09  1619171971610000   \n",
       "4  a39616e3-243c-4c04-b8d3-1a016111d84c   1.619008e+09  1619007945504000   \n",
       "\n",
       "   event_date  \n",
       "0    20210408  \n",
       "1    20210413  \n",
       "2    20210423  \n",
       "3    20210423  \n",
       "4    20210421  "
      ]
     },
     "execution_count": 83,
     "metadata": {},
     "output_type": "execute_result"
    }
   ],
   "source": [
    "asset.head()"
   ]
  },
  {
   "cell_type": "code",
   "execution_count": 84,
   "id": "324c239e",
   "metadata": {},
   "outputs": [
    {
     "data": {
      "text/html": [
       "<div>\n",
       "<style scoped>\n",
       "    .dataframe tbody tr th:only-of-type {\n",
       "        vertical-align: middle;\n",
       "    }\n",
       "\n",
       "    .dataframe tbody tr th {\n",
       "        vertical-align: top;\n",
       "    }\n",
       "\n",
       "    .dataframe thead th {\n",
       "        text-align: right;\n",
       "    }\n",
       "</style>\n",
       "<table border=\"1\" class=\"dataframe\">\n",
       "  <thead>\n",
       "    <tr style=\"text-align: right;\">\n",
       "      <th></th>\n",
       "      <th>ad_id</th>\n",
       "      <th>ga_session_id</th>\n",
       "      <th>event_timestamp</th>\n",
       "      <th>event_date</th>\n",
       "    </tr>\n",
       "  </thead>\n",
       "  <tbody>\n",
       "    <tr>\n",
       "      <th>0</th>\n",
       "      <td>a39616e3-243c-4c04-b8d3-1a016111d84c</td>\n",
       "      <td>1.618947e+09</td>\n",
       "      <td>1618947173023000</td>\n",
       "      <td>20210420</td>\n",
       "    </tr>\n",
       "    <tr>\n",
       "      <th>1</th>\n",
       "      <td>8abadb82-ab32-4031-9f66-441c2f6f8105</td>\n",
       "      <td>1.618705e+09</td>\n",
       "      <td>1618705516341000</td>\n",
       "      <td>20210417</td>\n",
       "    </tr>\n",
       "    <tr>\n",
       "      <th>2</th>\n",
       "      <td>e8833098-5ed2-45b5-8235-55313a3f586c</td>\n",
       "      <td>1.619141e+09</td>\n",
       "      <td>1619142602896000</td>\n",
       "      <td>20210422</td>\n",
       "    </tr>\n",
       "    <tr>\n",
       "      <th>3</th>\n",
       "      <td>65c6fca1-8c93-4cd1-a9ee-33085f5f52a1</td>\n",
       "      <td>1.618375e+09</td>\n",
       "      <td>1618376219124000</td>\n",
       "      <td>20210413</td>\n",
       "    </tr>\n",
       "    <tr>\n",
       "      <th>4</th>\n",
       "      <td>936e255b-9ad8-4f59-ae6c-54dc95c0eabe</td>\n",
       "      <td>1.619381e+09</td>\n",
       "      <td>1619383858780000</td>\n",
       "      <td>20210425</td>\n",
       "    </tr>\n",
       "  </tbody>\n",
       "</table>\n",
       "</div>"
      ],
      "text/plain": [
       "                                  ad_id  ga_session_id   event_timestamp  \\\n",
       "0  a39616e3-243c-4c04-b8d3-1a016111d84c   1.618947e+09  1618947173023000   \n",
       "1  8abadb82-ab32-4031-9f66-441c2f6f8105   1.618705e+09  1618705516341000   \n",
       "2  e8833098-5ed2-45b5-8235-55313a3f586c   1.619141e+09  1619142602896000   \n",
       "3  65c6fca1-8c93-4cd1-a9ee-33085f5f52a1   1.618375e+09  1618376219124000   \n",
       "4  936e255b-9ad8-4f59-ae6c-54dc95c0eabe   1.619381e+09  1619383858780000   \n",
       "\n",
       "   event_date  \n",
       "0    20210420  \n",
       "1    20210417  \n",
       "2    20210422  \n",
       "3    20210413  \n",
       "4    20210425  "
      ]
     },
     "execution_count": 84,
     "metadata": {},
     "output_type": "execute_result"
    }
   ],
   "source": [
    "ads.head()"
   ]
  },
  {
   "cell_type": "code",
   "execution_count": 88,
   "id": "5cbe4a86",
   "metadata": {},
   "outputs": [
    {
     "data": {
      "text/html": [
       "<div>\n",
       "<style scoped>\n",
       "    .dataframe tbody tr th:only-of-type {\n",
       "        vertical-align: middle;\n",
       "    }\n",
       "\n",
       "    .dataframe tbody tr th {\n",
       "        vertical-align: top;\n",
       "    }\n",
       "\n",
       "    .dataframe thead th {\n",
       "        text-align: right;\n",
       "    }\n",
       "</style>\n",
       "<table border=\"1\" class=\"dataframe\">\n",
       "  <thead>\n",
       "    <tr style=\"text-align: right;\">\n",
       "      <th></th>\n",
       "      <th>ad_id</th>\n",
       "      <th>event_timestamp</th>\n",
       "      <th>ga_session_id</th>\n",
       "      <th>ga_session_id_timestamp</th>\n",
       "    </tr>\n",
       "  </thead>\n",
       "  <tbody>\n",
       "    <tr>\n",
       "      <th>0</th>\n",
       "      <td>c9000a27-6fd5-4eb1-b728-286561c707ca</td>\n",
       "      <td>1619310355712000</td>\n",
       "      <td>1.619309e+09</td>\n",
       "      <td>1.619309e+15</td>\n",
       "    </tr>\n",
       "    <tr>\n",
       "      <th>1</th>\n",
       "      <td>c9000a27-6fd5-4eb1-b728-286561c707ca</td>\n",
       "      <td>1619310716820000</td>\n",
       "      <td>1.619309e+09</td>\n",
       "      <td>1.619309e+15</td>\n",
       "    </tr>\n",
       "    <tr>\n",
       "      <th>2</th>\n",
       "      <td>c9000a27-6fd5-4eb1-b728-286561c707ca</td>\n",
       "      <td>1619538999256000</td>\n",
       "      <td>1.619539e+09</td>\n",
       "      <td>1.619539e+15</td>\n",
       "    </tr>\n",
       "    <tr>\n",
       "      <th>3</th>\n",
       "      <td>c9000a27-6fd5-4eb1-b728-286561c707ca</td>\n",
       "      <td>1619310280808000</td>\n",
       "      <td>1.619309e+09</td>\n",
       "      <td>1.619309e+15</td>\n",
       "    </tr>\n",
       "    <tr>\n",
       "      <th>4</th>\n",
       "      <td>c9000a27-6fd5-4eb1-b728-286561c707ca</td>\n",
       "      <td>1619539036766000</td>\n",
       "      <td>1.619539e+09</td>\n",
       "      <td>1.619539e+15</td>\n",
       "    </tr>\n",
       "  </tbody>\n",
       "</table>\n",
       "</div>"
      ],
      "text/plain": [
       "                                  ad_id   event_timestamp  ga_session_id  \\\n",
       "0  c9000a27-6fd5-4eb1-b728-286561c707ca  1619310355712000   1.619309e+09   \n",
       "1  c9000a27-6fd5-4eb1-b728-286561c707ca  1619310716820000   1.619309e+09   \n",
       "2  c9000a27-6fd5-4eb1-b728-286561c707ca  1619538999256000   1.619539e+09   \n",
       "3  c9000a27-6fd5-4eb1-b728-286561c707ca  1619310280808000   1.619309e+09   \n",
       "4  c9000a27-6fd5-4eb1-b728-286561c707ca  1619539036766000   1.619539e+09   \n",
       "\n",
       "   ga_session_id_timestamp  \n",
       "0             1.619309e+15  \n",
       "1             1.619309e+15  \n",
       "2             1.619539e+15  \n",
       "3             1.619309e+15  \n",
       "4             1.619539e+15  "
      ]
     },
     "execution_count": 88,
     "metadata": {},
     "output_type": "execute_result"
    }
   ],
   "source": [
    "activity_day.head()"
   ]
  },
  {
   "cell_type": "code",
   "execution_count": 93,
   "id": "16a4503a",
   "metadata": {},
   "outputs": [
    {
     "data": {
      "text/html": [
       "<div>\n",
       "<style scoped>\n",
       "    .dataframe tbody tr th:only-of-type {\n",
       "        vertical-align: middle;\n",
       "    }\n",
       "\n",
       "    .dataframe tbody tr th {\n",
       "        vertical-align: top;\n",
       "    }\n",
       "\n",
       "    .dataframe thead th {\n",
       "        text-align: right;\n",
       "    }\n",
       "</style>\n",
       "<table border=\"1\" class=\"dataframe\">\n",
       "  <thead>\n",
       "    <tr style=\"text-align: right;\">\n",
       "      <th></th>\n",
       "      <th>ad_id</th>\n",
       "      <th>ga_session_id</th>\n",
       "      <th>event_timestamp</th>\n",
       "    </tr>\n",
       "  </thead>\n",
       "  <tbody>\n",
       "    <tr>\n",
       "      <th>0</th>\n",
       "      <td>8c1573e7-f440-431e-b516-00c5b621fd63</td>\n",
       "      <td>1.618716e+09</td>\n",
       "      <td>1618716504567000</td>\n",
       "    </tr>\n",
       "    <tr>\n",
       "      <th>1</th>\n",
       "      <td>1d1ec878-3d36-46e5-a2cc-3bed46341679</td>\n",
       "      <td>1.618081e+09</td>\n",
       "      <td>1618080730037000</td>\n",
       "    </tr>\n",
       "    <tr>\n",
       "      <th>2</th>\n",
       "      <td>95511509-8065-4227-bd5a-a803ddbed7b6</td>\n",
       "      <td>1.618362e+09</td>\n",
       "      <td>1618362123481000</td>\n",
       "    </tr>\n",
       "    <tr>\n",
       "      <th>3</th>\n",
       "      <td>a42b11cd-da75-4043-897f-18c3f4d67c3e</td>\n",
       "      <td>1.618572e+09</td>\n",
       "      <td>1618572315366000</td>\n",
       "    </tr>\n",
       "    <tr>\n",
       "      <th>4</th>\n",
       "      <td>c1fb8a47-9bbb-4faa-935d-d533b985431a</td>\n",
       "      <td>1.618892e+09</td>\n",
       "      <td>1618892539702000</td>\n",
       "    </tr>\n",
       "  </tbody>\n",
       "</table>\n",
       "</div>"
      ],
      "text/plain": [
       "                                  ad_id  ga_session_id   event_timestamp\n",
       "0  8c1573e7-f440-431e-b516-00c5b621fd63   1.618716e+09  1618716504567000\n",
       "1  1d1ec878-3d36-46e5-a2cc-3bed46341679   1.618081e+09  1618080730037000\n",
       "2  95511509-8065-4227-bd5a-a803ddbed7b6   1.618362e+09  1618362123481000\n",
       "3  a42b11cd-da75-4043-897f-18c3f4d67c3e   1.618572e+09  1618572315366000\n",
       "4  c1fb8a47-9bbb-4faa-935d-d533b985431a   1.618892e+09  1618892539702000"
      ]
     },
     "execution_count": 93,
     "metadata": {},
     "output_type": "execute_result"
    }
   ],
   "source": [
    "#join\n",
    "all_event = pd.concat([tutorial_day[['ad_id','ga_session_id','event_timestamp']],play_day[['ad_id','ga_session_id','event_timestamp']],\n",
    "          draw_day[['ad_id','ga_session_id','event_timestamp']],stage_day,\n",
    "          asset[['ad_id','ga_session_id','event_timestamp']],ads[['ad_id','ga_session_id','event_timestamp']],\n",
    "          activity_day[['ad_id','ga_session_id','event_timestamp']]], axis=0)\n",
    "\n",
    "all_event.head()"
   ]
  },
  {
   "cell_type": "code",
   "execution_count": 96,
   "id": "d6eb2b05",
   "metadata": {},
   "outputs": [
    {
     "data": {
      "text/plain": [
       "(57185984, 3)"
      ]
     },
     "execution_count": 96,
     "metadata": {},
     "output_type": "execute_result"
    }
   ],
   "source": [
    "all_event.shape"
   ]
  },
  {
   "cell_type": "code",
   "execution_count": 97,
   "id": "3defc701",
   "metadata": {},
   "outputs": [
    {
     "name": "stdout",
     "output_type": "stream",
     "text": [
      "57185984\n"
     ]
    }
   ],
   "source": [
    "print(len(tutorial_day)+len(play_day) +len(draw_day)+len(stage_day)+len(asset)+len(ads)+len(activity_day))"
   ]
  },
  {
   "cell_type": "markdown",
   "id": "8650d3c1",
   "metadata": {},
   "source": [
    "##### ad_id , ga_session_id별 최소시간"
   ]
  },
  {
   "cell_type": "code",
   "execution_count": 114,
   "id": "a91e1c27",
   "metadata": {},
   "outputs": [],
   "source": [
    "min_timestamp = all_event.groupby(['ad_id','ga_session_id'])['event_timestamp'].min()"
   ]
  },
  {
   "cell_type": "code",
   "execution_count": 119,
   "id": "b2bf29a7",
   "metadata": {},
   "outputs": [],
   "source": [
    "min_timestamp = pd.DataFrame(min_timestamp).reset_index()"
   ]
  },
  {
   "cell_type": "code",
   "execution_count": 120,
   "id": "5bae554b",
   "metadata": {
    "scrolled": true
   },
   "outputs": [
    {
     "data": {
      "text/html": [
       "<div>\n",
       "<style scoped>\n",
       "    .dataframe tbody tr th:only-of-type {\n",
       "        vertical-align: middle;\n",
       "    }\n",
       "\n",
       "    .dataframe tbody tr th {\n",
       "        vertical-align: top;\n",
       "    }\n",
       "\n",
       "    .dataframe thead th {\n",
       "        text-align: right;\n",
       "    }\n",
       "</style>\n",
       "<table border=\"1\" class=\"dataframe\">\n",
       "  <thead>\n",
       "    <tr style=\"text-align: right;\">\n",
       "      <th></th>\n",
       "      <th>ad_id</th>\n",
       "      <th>ga_session_id</th>\n",
       "      <th>event_timestamp</th>\n",
       "    </tr>\n",
       "  </thead>\n",
       "  <tbody>\n",
       "    <tr>\n",
       "      <th>0</th>\n",
       "      <td>00018501-6eee-45e9-b5b5-7b50f966abd8</td>\n",
       "      <td>1.618459e+09</td>\n",
       "      <td>1618458973665000</td>\n",
       "    </tr>\n",
       "    <tr>\n",
       "      <th>1</th>\n",
       "      <td>00018501-6eee-45e9-b5b5-7b50f966abd8</td>\n",
       "      <td>1.619147e+09</td>\n",
       "      <td>1619147084357000</td>\n",
       "    </tr>\n",
       "    <tr>\n",
       "      <th>2</th>\n",
       "      <td>0001edb6-e7e7-4f74-8993-2bfc9347a959</td>\n",
       "      <td>1.619207e+09</td>\n",
       "      <td>1619207127894000</td>\n",
       "    </tr>\n",
       "    <tr>\n",
       "      <th>3</th>\n",
       "      <td>0001ef07-c27e-4d91-a8bb-d0aa5f0d45e7</td>\n",
       "      <td>1.618855e+09</td>\n",
       "      <td>1618854710317000</td>\n",
       "    </tr>\n",
       "    <tr>\n",
       "      <th>4</th>\n",
       "      <td>0001ef07-c27e-4d91-a8bb-d0aa5f0d45e7</td>\n",
       "      <td>1.618932e+09</td>\n",
       "      <td>1618931879817000</td>\n",
       "    </tr>\n",
       "    <tr>\n",
       "      <th>...</th>\n",
       "      <td>...</td>\n",
       "      <td>...</td>\n",
       "      <td>...</td>\n",
       "    </tr>\n",
       "    <tr>\n",
       "      <th>592855</th>\n",
       "      <td>ffffaa74-daa9-4fe1-a4bb-9e9c5853246f</td>\n",
       "      <td>1.619193e+09</td>\n",
       "      <td>1619193271548000</td>\n",
       "    </tr>\n",
       "    <tr>\n",
       "      <th>592856</th>\n",
       "      <td>ffffb6c8-7644-41b3-b334-f6035059539f</td>\n",
       "      <td>1.618834e+09</td>\n",
       "      <td>1618834053345000</td>\n",
       "    </tr>\n",
       "    <tr>\n",
       "      <th>592857</th>\n",
       "      <td>ffffb6c8-7644-41b3-b334-f6035059539f</td>\n",
       "      <td>1.618864e+09</td>\n",
       "      <td>1618864095143000</td>\n",
       "    </tr>\n",
       "    <tr>\n",
       "      <th>592858</th>\n",
       "      <td>ffffb6c8-7644-41b3-b334-f6035059539f</td>\n",
       "      <td>1.618868e+09</td>\n",
       "      <td>1618867626657000</td>\n",
       "    </tr>\n",
       "    <tr>\n",
       "      <th>592859</th>\n",
       "      <td>fffff9f7-8eeb-4ed0-855a-9d342b5a97ef</td>\n",
       "      <td>1.618395e+09</td>\n",
       "      <td>1618394575798000</td>\n",
       "    </tr>\n",
       "  </tbody>\n",
       "</table>\n",
       "<p>592860 rows × 3 columns</p>\n",
       "</div>"
      ],
      "text/plain": [
       "                                       ad_id  ga_session_id   event_timestamp\n",
       "0       00018501-6eee-45e9-b5b5-7b50f966abd8   1.618459e+09  1618458973665000\n",
       "1       00018501-6eee-45e9-b5b5-7b50f966abd8   1.619147e+09  1619147084357000\n",
       "2       0001edb6-e7e7-4f74-8993-2bfc9347a959   1.619207e+09  1619207127894000\n",
       "3       0001ef07-c27e-4d91-a8bb-d0aa5f0d45e7   1.618855e+09  1618854710317000\n",
       "4       0001ef07-c27e-4d91-a8bb-d0aa5f0d45e7   1.618932e+09  1618931879817000\n",
       "...                                      ...            ...               ...\n",
       "592855  ffffaa74-daa9-4fe1-a4bb-9e9c5853246f   1.619193e+09  1619193271548000\n",
       "592856  ffffb6c8-7644-41b3-b334-f6035059539f   1.618834e+09  1618834053345000\n",
       "592857  ffffb6c8-7644-41b3-b334-f6035059539f   1.618864e+09  1618864095143000\n",
       "592858  ffffb6c8-7644-41b3-b334-f6035059539f   1.618868e+09  1618867626657000\n",
       "592859  fffff9f7-8eeb-4ed0-855a-9d342b5a97ef   1.618395e+09  1618394575798000\n",
       "\n",
       "[592860 rows x 3 columns]"
      ]
     },
     "execution_count": 120,
     "metadata": {},
     "output_type": "execute_result"
    }
   ],
   "source": [
    "min_timestamp"
   ]
  },
  {
   "cell_type": "markdown",
   "id": "ced5cc96",
   "metadata": {},
   "source": [
    "##### target user만 뽑기"
   ]
  },
  {
   "cell_type": "code",
   "execution_count": 122,
   "id": "6357897b",
   "metadata": {},
   "outputs": [],
   "source": [
    "target = pd.read_csv(\"data/Target_train_YN.csv\") "
   ]
  },
  {
   "cell_type": "code",
   "execution_count": 126,
   "id": "2a0a8686",
   "metadata": {},
   "outputs": [],
   "source": [
    "min_timestamp = min_timestamp[min_timestamp['ad_id'].isin(target.ad_id.to_list())]"
   ]
  },
  {
   "cell_type": "code",
   "execution_count": 127,
   "id": "8e6180be",
   "metadata": {},
   "outputs": [
    {
     "data": {
      "text/html": [
       "<div>\n",
       "<style scoped>\n",
       "    .dataframe tbody tr th:only-of-type {\n",
       "        vertical-align: middle;\n",
       "    }\n",
       "\n",
       "    .dataframe tbody tr th {\n",
       "        vertical-align: top;\n",
       "    }\n",
       "\n",
       "    .dataframe thead th {\n",
       "        text-align: right;\n",
       "    }\n",
       "</style>\n",
       "<table border=\"1\" class=\"dataframe\">\n",
       "  <thead>\n",
       "    <tr style=\"text-align: right;\">\n",
       "      <th></th>\n",
       "      <th>ad_id</th>\n",
       "      <th>ga_session_id</th>\n",
       "      <th>event_timestamp</th>\n",
       "    </tr>\n",
       "  </thead>\n",
       "  <tbody>\n",
       "    <tr>\n",
       "      <th>0</th>\n",
       "      <td>00018501-6eee-45e9-b5b5-7b50f966abd8</td>\n",
       "      <td>1.618459e+09</td>\n",
       "      <td>1618458973665000</td>\n",
       "    </tr>\n",
       "    <tr>\n",
       "      <th>1</th>\n",
       "      <td>00018501-6eee-45e9-b5b5-7b50f966abd8</td>\n",
       "      <td>1.619147e+09</td>\n",
       "      <td>1619147084357000</td>\n",
       "    </tr>\n",
       "    <tr>\n",
       "      <th>2</th>\n",
       "      <td>0001edb6-e7e7-4f74-8993-2bfc9347a959</td>\n",
       "      <td>1.619207e+09</td>\n",
       "      <td>1619207127894000</td>\n",
       "    </tr>\n",
       "    <tr>\n",
       "      <th>3</th>\n",
       "      <td>0001ef07-c27e-4d91-a8bb-d0aa5f0d45e7</td>\n",
       "      <td>1.618855e+09</td>\n",
       "      <td>1618854710317000</td>\n",
       "    </tr>\n",
       "    <tr>\n",
       "      <th>4</th>\n",
       "      <td>0001ef07-c27e-4d91-a8bb-d0aa5f0d45e7</td>\n",
       "      <td>1.618932e+09</td>\n",
       "      <td>1618931879817000</td>\n",
       "    </tr>\n",
       "    <tr>\n",
       "      <th>...</th>\n",
       "      <td>...</td>\n",
       "      <td>...</td>\n",
       "      <td>...</td>\n",
       "    </tr>\n",
       "    <tr>\n",
       "      <th>592855</th>\n",
       "      <td>ffffaa74-daa9-4fe1-a4bb-9e9c5853246f</td>\n",
       "      <td>1.619193e+09</td>\n",
       "      <td>1619193271548000</td>\n",
       "    </tr>\n",
       "    <tr>\n",
       "      <th>592856</th>\n",
       "      <td>ffffb6c8-7644-41b3-b334-f6035059539f</td>\n",
       "      <td>1.618834e+09</td>\n",
       "      <td>1618834053345000</td>\n",
       "    </tr>\n",
       "    <tr>\n",
       "      <th>592857</th>\n",
       "      <td>ffffb6c8-7644-41b3-b334-f6035059539f</td>\n",
       "      <td>1.618864e+09</td>\n",
       "      <td>1618864095143000</td>\n",
       "    </tr>\n",
       "    <tr>\n",
       "      <th>592858</th>\n",
       "      <td>ffffb6c8-7644-41b3-b334-f6035059539f</td>\n",
       "      <td>1.618868e+09</td>\n",
       "      <td>1618867626657000</td>\n",
       "    </tr>\n",
       "    <tr>\n",
       "      <th>592859</th>\n",
       "      <td>fffff9f7-8eeb-4ed0-855a-9d342b5a97ef</td>\n",
       "      <td>1.618395e+09</td>\n",
       "      <td>1618394575798000</td>\n",
       "    </tr>\n",
       "  </tbody>\n",
       "</table>\n",
       "<p>558186 rows × 3 columns</p>\n",
       "</div>"
      ],
      "text/plain": [
       "                                       ad_id  ga_session_id   event_timestamp\n",
       "0       00018501-6eee-45e9-b5b5-7b50f966abd8   1.618459e+09  1618458973665000\n",
       "1       00018501-6eee-45e9-b5b5-7b50f966abd8   1.619147e+09  1619147084357000\n",
       "2       0001edb6-e7e7-4f74-8993-2bfc9347a959   1.619207e+09  1619207127894000\n",
       "3       0001ef07-c27e-4d91-a8bb-d0aa5f0d45e7   1.618855e+09  1618854710317000\n",
       "4       0001ef07-c27e-4d91-a8bb-d0aa5f0d45e7   1.618932e+09  1618931879817000\n",
       "...                                      ...            ...               ...\n",
       "592855  ffffaa74-daa9-4fe1-a4bb-9e9c5853246f   1.619193e+09  1619193271548000\n",
       "592856  ffffb6c8-7644-41b3-b334-f6035059539f   1.618834e+09  1618834053345000\n",
       "592857  ffffb6c8-7644-41b3-b334-f6035059539f   1.618864e+09  1618864095143000\n",
       "592858  ffffb6c8-7644-41b3-b334-f6035059539f   1.618868e+09  1618867626657000\n",
       "592859  fffff9f7-8eeb-4ed0-855a-9d342b5a97ef   1.618395e+09  1618394575798000\n",
       "\n",
       "[558186 rows x 3 columns]"
      ]
     },
     "execution_count": 127,
     "metadata": {},
     "output_type": "execute_result"
    }
   ],
   "source": [
    "min_timestamp"
   ]
  },
  {
   "cell_type": "code",
   "execution_count": 128,
   "id": "ca23b5ed",
   "metadata": {},
   "outputs": [],
   "source": [
    "min_timestamp.to_csv(\"data/min_timestamp.csv\", index=False)"
   ]
  },
  {
   "cell_type": "markdown",
   "id": "73747ee4",
   "metadata": {},
   "source": [
    "##### datetime 형식으로 변환"
   ]
  },
  {
   "cell_type": "code",
   "execution_count": 112,
   "id": "ed1e796d",
   "metadata": {},
   "outputs": [],
   "source": [
    "from datetime import datetime\n",
    "from tqdm.notebook import tqdm\n",
    "\n",
    "def Convert_utc_to_datetime(df, col_name) -> list:\n",
    "    dt = []\n",
    "    for i in tqdm(range(df.shape[0])):\n",
    "        tmp = df[col_name][i].astype(int)\n",
    "        utc = tmp // 1000000\n",
    "        dt.append(datetime.utcfromtimestamp(utc).date())\n",
    "  \n",
    "    return dt"
   ]
  },
  {
   "cell_type": "code",
   "execution_count": 113,
   "id": "79ec52a2",
   "metadata": {},
   "outputs": [
    {
     "data": {
      "application/vnd.jupyter.widget-view+json": {
       "model_id": "cd6387462947400d8ca24ae9d91155d1",
       "version_major": 2,
       "version_minor": 0
      },
      "text/plain": [
       "  0%|          | 0/57185984 [00:00<?, ?it/s]"
      ]
     },
     "metadata": {},
     "output_type": "display_data"
    },
    {
     "ename": "TypeError",
     "evalue": "cannot convert the series to <class 'int'>",
     "output_type": "error",
     "traceback": [
      "\u001b[0;31m---------------------------------------------------------------------------\u001b[0m",
      "\u001b[0;31mTypeError\u001b[0m                                 Traceback (most recent call last)",
      "\u001b[0;32m<ipython-input-113-531238310e91>\u001b[0m in \u001b[0;36m<module>\u001b[0;34m\u001b[0m\n\u001b[0;32m----> 1\u001b[0;31m \u001b[0mall_event\u001b[0m\u001b[0;34m[\u001b[0m\u001b[0;34m'event_date'\u001b[0m\u001b[0;34m]\u001b[0m \u001b[0;34m=\u001b[0m \u001b[0mConvert_utc_to_datetime\u001b[0m\u001b[0;34m(\u001b[0m\u001b[0mall_event\u001b[0m\u001b[0;34m,\u001b[0m \u001b[0;34m'event_timestamp'\u001b[0m\u001b[0;34m)\u001b[0m\u001b[0;34m\u001b[0m\u001b[0m\n\u001b[0m",
      "\u001b[0;32m<ipython-input-112-3985871922e9>\u001b[0m in \u001b[0;36mConvert_utc_to_datetime\u001b[0;34m(df, col_name)\u001b[0m\n\u001b[1;32m      7\u001b[0m         \u001b[0mtmp\u001b[0m \u001b[0;34m=\u001b[0m \u001b[0mdf\u001b[0m\u001b[0;34m[\u001b[0m\u001b[0mcol_name\u001b[0m\u001b[0;34m]\u001b[0m\u001b[0;34m[\u001b[0m\u001b[0mi\u001b[0m\u001b[0;34m]\u001b[0m\u001b[0;34m.\u001b[0m\u001b[0mastype\u001b[0m\u001b[0;34m(\u001b[0m\u001b[0mint\u001b[0m\u001b[0;34m)\u001b[0m\u001b[0;34m\u001b[0m\u001b[0m\n\u001b[1;32m      8\u001b[0m         \u001b[0mutc\u001b[0m \u001b[0;34m=\u001b[0m \u001b[0mtmp\u001b[0m \u001b[0;34m//\u001b[0m \u001b[0;36m1000000\u001b[0m\u001b[0;34m\u001b[0m\u001b[0m\n\u001b[0;32m----> 9\u001b[0;31m         \u001b[0mdt\u001b[0m\u001b[0;34m.\u001b[0m\u001b[0mappend\u001b[0m\u001b[0;34m(\u001b[0m\u001b[0mdatetime\u001b[0m\u001b[0;34m.\u001b[0m\u001b[0mutcfromtimestamp\u001b[0m\u001b[0;34m(\u001b[0m\u001b[0mutc\u001b[0m\u001b[0;34m)\u001b[0m\u001b[0;34m.\u001b[0m\u001b[0mdate\u001b[0m\u001b[0;34m(\u001b[0m\u001b[0;34m)\u001b[0m\u001b[0;34m)\u001b[0m\u001b[0;34m\u001b[0m\u001b[0m\n\u001b[0m\u001b[1;32m     10\u001b[0m \u001b[0;34m\u001b[0m\u001b[0m\n\u001b[1;32m     11\u001b[0m     \u001b[0;32mreturn\u001b[0m \u001b[0mdt\u001b[0m\u001b[0;34m\u001b[0m\u001b[0m\n",
      "\u001b[0;32m~/.conda/envs/ujin/lib/python3.7/site-packages/pandas/core/series.py\u001b[0m in \u001b[0;36mwrapper\u001b[0;34m(self)\u001b[0m\n\u001b[1;32m    127\u001b[0m         \u001b[0;32mif\u001b[0m \u001b[0mlen\u001b[0m\u001b[0;34m(\u001b[0m\u001b[0mself\u001b[0m\u001b[0;34m)\u001b[0m \u001b[0;34m==\u001b[0m \u001b[0;36m1\u001b[0m\u001b[0;34m:\u001b[0m\u001b[0;34m\u001b[0m\u001b[0m\n\u001b[1;32m    128\u001b[0m             \u001b[0;32mreturn\u001b[0m \u001b[0mconverter\u001b[0m\u001b[0;34m(\u001b[0m\u001b[0mself\u001b[0m\u001b[0;34m.\u001b[0m\u001b[0miloc\u001b[0m\u001b[0;34m[\u001b[0m\u001b[0;36m0\u001b[0m\u001b[0;34m]\u001b[0m\u001b[0;34m)\u001b[0m\u001b[0;34m\u001b[0m\u001b[0m\n\u001b[0;32m--> 129\u001b[0;31m         \u001b[0;32mraise\u001b[0m \u001b[0mTypeError\u001b[0m\u001b[0;34m(\u001b[0m\u001b[0;34mf\"cannot convert the series to {converter}\"\u001b[0m\u001b[0;34m)\u001b[0m\u001b[0;34m\u001b[0m\u001b[0m\n\u001b[0m\u001b[1;32m    130\u001b[0m \u001b[0;34m\u001b[0m\u001b[0m\n\u001b[1;32m    131\u001b[0m     \u001b[0mwrapper\u001b[0m\u001b[0;34m.\u001b[0m\u001b[0m__name__\u001b[0m \u001b[0;34m=\u001b[0m \u001b[0;34mf\"__{converter.__name__}__\"\u001b[0m\u001b[0;34m\u001b[0m\u001b[0m\n",
      "\u001b[0;31mTypeError\u001b[0m: cannot convert the series to <class 'int'>"
     ]
    }
   ],
   "source": [
    "all_event['event_date'] = Convert_utc_to_datetime(all_event, 'event_timestamp')"
   ]
  },
  {
   "cell_type": "code",
   "execution_count": null,
   "id": "c3866d4c",
   "metadata": {},
   "outputs": [],
   "source": []
  }
 ],
 "metadata": {
  "kernelspec": {
   "display_name": "Python 3",
   "language": "python",
   "name": "python3"
  },
  "language_info": {
   "codemirror_mode": {
    "name": "ipython",
    "version": 3
   },
   "file_extension": ".py",
   "mimetype": "text/x-python",
   "name": "python",
   "nbconvert_exporter": "python",
   "pygments_lexer": "ipython3",
   "version": "3.7.0"
  }
 },
 "nbformat": 4,
 "nbformat_minor": 5
}
